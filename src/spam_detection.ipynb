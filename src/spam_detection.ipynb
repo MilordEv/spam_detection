{
 "cells": [
  {
   "cell_type": "markdown",
   "metadata": {},
   "source": [
    "<h2>Загрузка и первичная предобработка данных</h2>"
   ]
  },
  {
   "cell_type": "code",
   "execution_count": 1,
   "metadata": {},
   "outputs": [],
   "source": [
    "import numpy as np\n",
    "import pandas as pd\n",
    "import matplotlib.pyplot as plt"
   ]
  },
  {
   "cell_type": "code",
   "execution_count": 2,
   "metadata": {},
   "outputs": [
    {
     "data": {
      "text/html": [
       "<div>\n",
       "<style scoped>\n",
       "    .dataframe tbody tr th:only-of-type {\n",
       "        vertical-align: middle;\n",
       "    }\n",
       "\n",
       "    .dataframe tbody tr th {\n",
       "        vertical-align: top;\n",
       "    }\n",
       "\n",
       "    .dataframe thead th {\n",
       "        text-align: right;\n",
       "    }\n",
       "</style>\n",
       "<table border=\"1\" class=\"dataframe\">\n",
       "  <thead>\n",
       "    <tr style=\"text-align: right;\">\n",
       "      <th></th>\n",
       "      <th>text_type</th>\n",
       "      <th>text</th>\n",
       "    </tr>\n",
       "  </thead>\n",
       "  <tbody>\n",
       "    <tr>\n",
       "      <th>0</th>\n",
       "      <td>ham</td>\n",
       "      <td>make sure alex knows his birthday is over in f...</td>\n",
       "    </tr>\n",
       "    <tr>\n",
       "      <th>1</th>\n",
       "      <td>ham</td>\n",
       "      <td>a resume for john lavorato thanks vince i will...</td>\n",
       "    </tr>\n",
       "    <tr>\n",
       "      <th>2</th>\n",
       "      <td>spam</td>\n",
       "      <td>plzz visit my website moviesgodml to get all m...</td>\n",
       "    </tr>\n",
       "    <tr>\n",
       "      <th>3</th>\n",
       "      <td>spam</td>\n",
       "      <td>urgent your mobile number has been awarded wit...</td>\n",
       "    </tr>\n",
       "    <tr>\n",
       "      <th>4</th>\n",
       "      <td>ham</td>\n",
       "      <td>overview of hr associates analyst project per ...</td>\n",
       "    </tr>\n",
       "    <tr>\n",
       "      <th>5</th>\n",
       "      <td>spam</td>\n",
       "      <td>i am so greatful to mrs valerie dodson for hel...</td>\n",
       "    </tr>\n",
       "    <tr>\n",
       "      <th>6</th>\n",
       "      <td>ham</td>\n",
       "      <td>url url date not supplied government employees...</td>\n",
       "    </tr>\n",
       "    <tr>\n",
       "      <th>7</th>\n",
       "      <td>spam</td>\n",
       "      <td>welcome to jefferson pilot s gateway to wealth...</td>\n",
       "    </tr>\n",
       "    <tr>\n",
       "      <th>8</th>\n",
       "      <td>ham</td>\n",
       "      <td>looks like your ham corpus by and large has to...</td>\n",
       "    </tr>\n",
       "    <tr>\n",
       "      <th>9</th>\n",
       "      <td>ham</td>\n",
       "      <td>how are you with moneyas in to youmoney aint a...</td>\n",
       "    </tr>\n",
       "    <tr>\n",
       "      <th>10</th>\n",
       "      <td>ham</td>\n",
       "      <td>sevil yaman great let me know how she performs...</td>\n",
       "    </tr>\n",
       "    <tr>\n",
       "      <th>11</th>\n",
       "      <td>ham</td>\n",
       "      <td>cinergy monthly prices 1998 to date margaret p...</td>\n",
       "    </tr>\n",
       "    <tr>\n",
       "      <th>12</th>\n",
       "      <td>ham</td>\n",
       "      <td>stop calling everyone saying i might have canc...</td>\n",
       "    </tr>\n",
       "    <tr>\n",
       "      <th>13</th>\n",
       "      <td>ham</td>\n",
       "      <td>statistician from rice osman this guy is too m...</td>\n",
       "    </tr>\n",
       "    <tr>\n",
       "      <th>14</th>\n",
       "      <td>ham</td>\n",
       "      <td>hello have you seen and discussed this article...</td>\n",
       "    </tr>\n",
       "    <tr>\n",
       "      <th>15</th>\n",
       "      <td>ham</td>\n",
       "      <td>meeting requested i will ask rebekah to try to...</td>\n",
       "    </tr>\n",
       "    <tr>\n",
       "      <th>16</th>\n",
       "      <td>ham</td>\n",
       "      <td>you have to curl wget git the file if you want...</td>\n",
       "    </tr>\n",
       "    <tr>\n",
       "      <th>17</th>\n",
       "      <td>spam</td>\n",
       "      <td>keep your esignature features save 20 view onl...</td>\n",
       "    </tr>\n",
       "    <tr>\n",
       "      <th>18</th>\n",
       "      <td>ham</td>\n",
       "      <td>mr sud rebecca i share some of your concerns r...</td>\n",
       "    </tr>\n",
       "    <tr>\n",
       "      <th>19</th>\n",
       "      <td>ham</td>\n",
       "      <td>on september 1635465 kialllists url said os x ...</td>\n",
       "    </tr>\n",
       "  </tbody>\n",
       "</table>\n",
       "</div>"
      ],
      "text/plain": [
       "   text_type                                               text\n",
       "0        ham  make sure alex knows his birthday is over in f...\n",
       "1        ham  a resume for john lavorato thanks vince i will...\n",
       "2       spam  plzz visit my website moviesgodml to get all m...\n",
       "3       spam  urgent your mobile number has been awarded wit...\n",
       "4        ham  overview of hr associates analyst project per ...\n",
       "5       spam  i am so greatful to mrs valerie dodson for hel...\n",
       "6        ham  url url date not supplied government employees...\n",
       "7       spam  welcome to jefferson pilot s gateway to wealth...\n",
       "8        ham  looks like your ham corpus by and large has to...\n",
       "9        ham  how are you with moneyas in to youmoney aint a...\n",
       "10       ham  sevil yaman great let me know how she performs...\n",
       "11       ham  cinergy monthly prices 1998 to date margaret p...\n",
       "12       ham  stop calling everyone saying i might have canc...\n",
       "13       ham  statistician from rice osman this guy is too m...\n",
       "14       ham  hello have you seen and discussed this article...\n",
       "15       ham  meeting requested i will ask rebekah to try to...\n",
       "16       ham  you have to curl wget git the file if you want...\n",
       "17      spam  keep your esignature features save 20 view onl...\n",
       "18       ham  mr sud rebecca i share some of your concerns r...\n",
       "19       ham  on september 1635465 kialllists url said os x ..."
      ]
     },
     "execution_count": 2,
     "metadata": {},
     "output_type": "execute_result"
    }
   ],
   "source": [
    "df = pd.read_csv('train_spam.csv')\n",
    "df.head(20)"
   ]
  },
  {
   "cell_type": "code",
   "execution_count": 3,
   "metadata": {},
   "outputs": [
    {
     "data": {
      "text/html": [
       "<div>\n",
       "<style scoped>\n",
       "    .dataframe tbody tr th:only-of-type {\n",
       "        vertical-align: middle;\n",
       "    }\n",
       "\n",
       "    .dataframe tbody tr th {\n",
       "        vertical-align: top;\n",
       "    }\n",
       "\n",
       "    .dataframe thead th {\n",
       "        text-align: right;\n",
       "    }\n",
       "</style>\n",
       "<table border=\"1\" class=\"dataframe\">\n",
       "  <thead>\n",
       "    <tr style=\"text-align: right;\">\n",
       "      <th></th>\n",
       "      <th>text_type</th>\n",
       "      <th>text</th>\n",
       "    </tr>\n",
       "  </thead>\n",
       "  <tbody>\n",
       "    <tr>\n",
       "      <th>16258</th>\n",
       "      <td>spam</td>\n",
       "      <td>urgent your 4 costa del sol holiday or £5000 a...</td>\n",
       "    </tr>\n",
       "    <tr>\n",
       "      <th>16259</th>\n",
       "      <td>ham</td>\n",
       "      <td>preface for book julie the introduction looks ...</td>\n",
       "    </tr>\n",
       "    <tr>\n",
       "      <th>16260</th>\n",
       "      <td>ham</td>\n",
       "      <td>download progress indicator i guess</td>\n",
       "    </tr>\n",
       "    <tr>\n",
       "      <th>16261</th>\n",
       "      <td>spam</td>\n",
       "      <td>𝑰 𝒘𝒂𝒔 𝒅𝒐𝒘𝒏 𝒂𝒏𝒅 𝒖𝒏𝒅𝒆𝒓 𝒂𝒕 𝒂 𝒑𝒐𝒊𝒏𝒕 𝒖𝒏𝒕𝒊𝒍 𝑰 𝒘𝒂𝒔 𝒊𝒏...</td>\n",
       "    </tr>\n",
       "    <tr>\n",
       "      <th>16262</th>\n",
       "      <td>ham</td>\n",
       "      <td>california update 5 4 01 if you have any quest...</td>\n",
       "    </tr>\n",
       "    <tr>\n",
       "      <th>16263</th>\n",
       "      <td>ham</td>\n",
       "      <td>just checked out heading out to drop off my st...</td>\n",
       "    </tr>\n",
       "    <tr>\n",
       "      <th>16264</th>\n",
       "      <td>spam</td>\n",
       "      <td>i just created my youtube channel 3 days ago t...</td>\n",
       "    </tr>\n",
       "    <tr>\n",
       "      <th>16265</th>\n",
       "      <td>ham</td>\n",
       "      <td>i am sorry</td>\n",
       "    </tr>\n",
       "    <tr>\n",
       "      <th>16266</th>\n",
       "      <td>ham</td>\n",
       "      <td>crypto nympho is a asshole his video on youtub...</td>\n",
       "    </tr>\n",
       "    <tr>\n",
       "      <th>16267</th>\n",
       "      <td>spam</td>\n",
       "      <td>your e mail to anvasetc 1111 groups msn com ca...</td>\n",
       "    </tr>\n",
       "    <tr>\n",
       "      <th>16268</th>\n",
       "      <td>ham</td>\n",
       "      <td>why do we all marry? because romance is not th...</td>\n",
       "    </tr>\n",
       "    <tr>\n",
       "      <th>16269</th>\n",
       "      <td>ham</td>\n",
       "      <td>well its doing something</td>\n",
       "    </tr>\n",
       "    <tr>\n",
       "      <th>16270</th>\n",
       "      <td>ham</td>\n",
       "      <td>greeting from charles happy new year to you as...</td>\n",
       "    </tr>\n",
       "    <tr>\n",
       "      <th>16271</th>\n",
       "      <td>spam</td>\n",
       "      <td>rs 250 for dental services worth rs 2150 denta...</td>\n",
       "    </tr>\n",
       "    <tr>\n",
       "      <th>16272</th>\n",
       "      <td>spam</td>\n",
       "      <td>dost i am playing cricket knifeup pool etc and...</td>\n",
       "    </tr>\n",
       "    <tr>\n",
       "      <th>16273</th>\n",
       "      <td>spam</td>\n",
       "      <td>if you are interested in binary options tradin...</td>\n",
       "    </tr>\n",
       "    <tr>\n",
       "      <th>16274</th>\n",
       "      <td>spam</td>\n",
       "      <td>dirty pictureblyk on aircel thanks you for bei...</td>\n",
       "    </tr>\n",
       "    <tr>\n",
       "      <th>16275</th>\n",
       "      <td>ham</td>\n",
       "      <td>or you could do this g on mon 1635465 sep 1635...</td>\n",
       "    </tr>\n",
       "    <tr>\n",
       "      <th>16276</th>\n",
       "      <td>ham</td>\n",
       "      <td>insta reels par 80 गंद bhara pada hai 👀 kuch b...</td>\n",
       "    </tr>\n",
       "    <tr>\n",
       "      <th>16277</th>\n",
       "      <td>ham</td>\n",
       "      <td>alex s paper comments 1 in the sentence betwee...</td>\n",
       "    </tr>\n",
       "  </tbody>\n",
       "</table>\n",
       "</div>"
      ],
      "text/plain": [
       "      text_type                                               text\n",
       "16258      spam  urgent your 4 costa del sol holiday or £5000 a...\n",
       "16259       ham  preface for book julie the introduction looks ...\n",
       "16260       ham                download progress indicator i guess\n",
       "16261      spam  𝑰 𝒘𝒂𝒔 𝒅𝒐𝒘𝒏 𝒂𝒏𝒅 𝒖𝒏𝒅𝒆𝒓 𝒂𝒕 𝒂 𝒑𝒐𝒊𝒏𝒕 𝒖𝒏𝒕𝒊𝒍 𝑰 𝒘𝒂𝒔 𝒊𝒏...\n",
       "16262       ham  california update 5 4 01 if you have any quest...\n",
       "16263       ham  just checked out heading out to drop off my st...\n",
       "16264      spam  i just created my youtube channel 3 days ago t...\n",
       "16265       ham                                         i am sorry\n",
       "16266       ham  crypto nympho is a asshole his video on youtub...\n",
       "16267      spam  your e mail to anvasetc 1111 groups msn com ca...\n",
       "16268       ham  why do we all marry? because romance is not th...\n",
       "16269       ham                           well its doing something\n",
       "16270       ham  greeting from charles happy new year to you as...\n",
       "16271      spam  rs 250 for dental services worth rs 2150 denta...\n",
       "16272      spam  dost i am playing cricket knifeup pool etc and...\n",
       "16273      spam  if you are interested in binary options tradin...\n",
       "16274      spam  dirty pictureblyk on aircel thanks you for bei...\n",
       "16275       ham  or you could do this g on mon 1635465 sep 1635...\n",
       "16276       ham  insta reels par 80 गंद bhara pada hai 👀 kuch b...\n",
       "16277       ham  alex s paper comments 1 in the sentence betwee..."
      ]
     },
     "execution_count": 3,
     "metadata": {},
     "output_type": "execute_result"
    }
   ],
   "source": [
    "df.tail(20)"
   ]
  },
  {
   "cell_type": "code",
   "execution_count": 4,
   "metadata": {},
   "outputs": [
    {
     "name": "stdout",
     "output_type": "stream",
     "text": [
      "sample size: 16278\n",
      "\n",
      "sample size for each class: \n",
      "ham     11469\n",
      "spam     4809\n",
      "Name: text_type, dtype: int64\n"
     ]
    }
   ],
   "source": [
    "print(f\"sample size: {df.shape[0]}\")\n",
    "print()\n",
    "print(f\"sample size for each class: \\n{df['text_type'].value_counts()}\")"
   ]
  },
  {
   "cell_type": "code",
   "execution_count": 5,
   "metadata": {},
   "outputs": [
    {
     "name": "stdout",
     "output_type": "stream",
     "text": [
      "plzz visit my website moviesgodml to get all movies for free and also i provide direct download links no redirect and ads😊😊😊😊😁\n",
      "\n",
      "urgent your mobile number has been awarded with a £2000 prize guaranteed call 09061790121 from land line claim 3030 valid 12hrs only 150ppm\n",
      "\n",
      "i am so greatful to mrs valerie dodson for helping change my life she gives free bitcoins to newly subscribed members and her trading signals are accurate just click on the link below\n",
      "\n",
      "welcome to jefferson pilot s gateway to wealth as one of the industry s premier producers you must continually seek qualified cutting edge services financial profiles concept profiles professional is a personal and business analysis tool that analyzes a client s insurance investment and financial planning goals to help them see their situation today compared to their objectives market profiles professional is an ideal tool for true financial planning it not only provides a thorough analysis including asset allocation but it can calculate tax implications in a client s plan due to its modular format it can be used for specific planning needs as well as more comprehensive planning benefits this software not only provides exceptional analysis but excels in providing simple as well as comprehe\n",
      "\n",
      "keep your esignature features save 20 view online 1 esignature solution save 20 with code luckyday save 20 when you buy today this week only we are offering 20 off docusign standard and business pro simply enter luckyday at checkout\n",
      "\n"
     ]
    }
   ],
   "source": [
    "df_spam = df[df['text_type'].values == 'spam']\n",
    "text_values = df_spam.loc[:, 'text'].values[:5]\n",
    "\n",
    "for value in text_values:\n",
    "    print(f\"{value}\\n\")"
   ]
  },
  {
   "cell_type": "code",
   "execution_count": 6,
   "metadata": {},
   "outputs": [
    {
     "data": {
      "text/plain": [
       "False"
      ]
     },
     "execution_count": 6,
     "metadata": {},
     "output_type": "execute_result"
    }
   ],
   "source": [
    "df.isnull().values.any()"
   ]
  },
  {
   "cell_type": "code",
   "execution_count": 7,
   "metadata": {},
   "outputs": [
    {
     "data": {
      "text/html": [
       "<div>\n",
       "<style scoped>\n",
       "    .dataframe tbody tr th:only-of-type {\n",
       "        vertical-align: middle;\n",
       "    }\n",
       "\n",
       "    .dataframe tbody tr th {\n",
       "        vertical-align: top;\n",
       "    }\n",
       "\n",
       "    .dataframe thead th {\n",
       "        text-align: right;\n",
       "    }\n",
       "</style>\n",
       "<table border=\"1\" class=\"dataframe\">\n",
       "  <thead>\n",
       "    <tr style=\"text-align: right;\">\n",
       "      <th></th>\n",
       "      <th>text_type</th>\n",
       "      <th>text</th>\n",
       "    </tr>\n",
       "  </thead>\n",
       "  <tbody>\n",
       "    <tr>\n",
       "      <th>4145</th>\n",
       "      <td>ham</td>\n",
       "      <td>SPAM ALERT  🚔  User:     Username: @DillyBubbl...</td>\n",
       "    </tr>\n",
       "    <tr>\n",
       "      <th>4463</th>\n",
       "      <td>ham</td>\n",
       "      <td>SPAM ALERT  🚔  User:     Username: @DillyBubbl...</td>\n",
       "    </tr>\n",
       "    <tr>\n",
       "      <th>5640</th>\n",
       "      <td>ham</td>\n",
       "      <td>/ban</td>\n",
       "    </tr>\n",
       "    <tr>\n",
       "      <th>6933</th>\n",
       "      <td>ham</td>\n",
       "      <td>SPAM ALERT  🚔  User:     Username: @DillyBubbl...</td>\n",
       "    </tr>\n",
       "    <tr>\n",
       "      <th>7663</th>\n",
       "      <td>ham</td>\n",
       "      <td>SPAM ALERT  🚔  User:     Username: @DillyBubbl...</td>\n",
       "    </tr>\n",
       "    <tr>\n",
       "      <th>7918</th>\n",
       "      <td>ham</td>\n",
       "      <td>SPAM ALERT  🚔  User:     Username: @DillyBubbl...</td>\n",
       "    </tr>\n",
       "    <tr>\n",
       "      <th>9790</th>\n",
       "      <td>ham</td>\n",
       "      <td>SPAM ALERT  🚔  User:     Username: @DillyBubbl...</td>\n",
       "    </tr>\n",
       "    <tr>\n",
       "      <th>10290</th>\n",
       "      <td>ham</td>\n",
       "      <td>SPAM DETECTION  User:     Username: @DillyBubb...</td>\n",
       "    </tr>\n",
       "    <tr>\n",
       "      <th>10811</th>\n",
       "      <td>ham</td>\n",
       "      <td>SPAM DETECTION  User:     Username: @DillyBubb...</td>\n",
       "    </tr>\n",
       "    <tr>\n",
       "      <th>13210</th>\n",
       "      <td>ham</td>\n",
       "      <td>SPAM DETECTION  User:     Username: @DillyBubb...</td>\n",
       "    </tr>\n",
       "    <tr>\n",
       "      <th>14267</th>\n",
       "      <td>ham</td>\n",
       "      <td>/ban</td>\n",
       "    </tr>\n",
       "  </tbody>\n",
       "</table>\n",
       "</div>"
      ],
      "text/plain": [
       "      text_type                                               text\n",
       "4145        ham  SPAM ALERT  🚔  User:     Username: @DillyBubbl...\n",
       "4463        ham  SPAM ALERT  🚔  User:     Username: @DillyBubbl...\n",
       "5640        ham                                               /ban\n",
       "6933        ham  SPAM ALERT  🚔  User:     Username: @DillyBubbl...\n",
       "7663        ham  SPAM ALERT  🚔  User:     Username: @DillyBubbl...\n",
       "7918        ham  SPAM ALERT  🚔  User:     Username: @DillyBubbl...\n",
       "9790        ham  SPAM ALERT  🚔  User:     Username: @DillyBubbl...\n",
       "10290       ham  SPAM DETECTION  User:     Username: @DillyBubb...\n",
       "10811       ham  SPAM DETECTION  User:     Username: @DillyBubb...\n",
       "13210       ham  SPAM DETECTION  User:     Username: @DillyBubb...\n",
       "14267       ham                                               /ban"
      ]
     },
     "execution_count": 7,
     "metadata": {},
     "output_type": "execute_result"
    }
   ],
   "source": [
    "duplicateRows = df[df.duplicated ()]\n",
    "\n",
    "duplicateRows"
   ]
  },
  {
   "cell_type": "code",
   "execution_count": 8,
   "metadata": {},
   "outputs": [
    {
     "name": "stdout",
     "output_type": "stream",
     "text": [
      "  text_type                                               text\n",
      "0       ham  make sure alex knows his birthday is over in f...\n",
      "1       ham  a resume for john lavorato thanks vince i will...\n",
      "2      spam  plzz visit my website moviesgodml to get all m...\n",
      "3      spam  urgent your mobile number has been awarded wit...\n",
      "4       ham  overview of hr associates analyst project per ...\n"
     ]
    },
    {
     "data": {
      "text/html": [
       "<div>\n",
       "<style scoped>\n",
       "    .dataframe tbody tr th:only-of-type {\n",
       "        vertical-align: middle;\n",
       "    }\n",
       "\n",
       "    .dataframe tbody tr th {\n",
       "        vertical-align: top;\n",
       "    }\n",
       "\n",
       "    .dataframe thead th {\n",
       "        text-align: right;\n",
       "    }\n",
       "</style>\n",
       "<table border=\"1\" class=\"dataframe\">\n",
       "  <thead>\n",
       "    <tr style=\"text-align: right;\">\n",
       "      <th></th>\n",
       "      <th>text_type</th>\n",
       "      <th>text</th>\n",
       "    </tr>\n",
       "  </thead>\n",
       "  <tbody>\n",
       "    <tr>\n",
       "      <th>0</th>\n",
       "      <td>0</td>\n",
       "      <td>make sure alex knows his birthday is over in f...</td>\n",
       "    </tr>\n",
       "    <tr>\n",
       "      <th>1</th>\n",
       "      <td>0</td>\n",
       "      <td>a resume for john lavorato thanks vince i will...</td>\n",
       "    </tr>\n",
       "    <tr>\n",
       "      <th>2</th>\n",
       "      <td>1</td>\n",
       "      <td>plzz visit my website moviesgodml to get all m...</td>\n",
       "    </tr>\n",
       "    <tr>\n",
       "      <th>3</th>\n",
       "      <td>1</td>\n",
       "      <td>urgent your mobile number has been awarded wit...</td>\n",
       "    </tr>\n",
       "    <tr>\n",
       "      <th>4</th>\n",
       "      <td>0</td>\n",
       "      <td>overview of hr associates analyst project per ...</td>\n",
       "    </tr>\n",
       "  </tbody>\n",
       "</table>\n",
       "</div>"
      ],
      "text/plain": [
       "  text_type                                               text\n",
       "0         0  make sure alex knows his birthday is over in f...\n",
       "1         0  a resume for john lavorato thanks vince i will...\n",
       "2         1  plzz visit my website moviesgodml to get all m...\n",
       "3         1  urgent your mobile number has been awarded wit...\n",
       "4         0  overview of hr associates analyst project per ..."
      ]
     },
     "execution_count": 8,
     "metadata": {},
     "output_type": "execute_result"
    }
   ],
   "source": [
    "df2 = df.drop_duplicates().reset_index()\n",
    "del df2['index']\n",
    "print(df2.head())\n",
    "df2['text_type'] = df2['text_type'].where(df2.loc[:, 'text_type'].values == \"spam\", 0)\n",
    "df2['text_type'] = df2['text_type'].where(df2.loc[:, 'text_type'].values != \"spam\", 1)\n",
    "df2.head()"
   ]
  },
  {
   "cell_type": "markdown",
   "metadata": {},
   "source": [
    "<h2>Предобработка данных</h2>"
   ]
  },
  {
   "cell_type": "code",
   "execution_count": 9,
   "metadata": {},
   "outputs": [],
   "source": [
    "from sklearn.model_selection import train_test_split\n",
    "import re\n",
    "from nltk.stem import WordNetLemmatizer\n",
    "from nltk.corpus import stopwords\n",
    "from nltk import word_tokenize"
   ]
  },
  {
   "cell_type": "code",
   "execution_count": 10,
   "metadata": {},
   "outputs": [],
   "source": [
    "def df_preprocess(text):  \n",
    "    regrex_pattern = re.compile('[^a-zA-Z0-9 ]')\n",
    "    \n",
    "    # Mathematical Alphanumeric Symbols\n",
    "    regrex_pattern_alphanumeric = re.compile(pattern = \"[\" u\"\\U0001D400-\\U0001D7FF\" \"]+\", flags = re.UNICODE)\n",
    "    \n",
    "    regrex_pattern_emoticons = re.compile(pattern = \"[\"\n",
    "        u\"\\U0001F600-\\U0001F64F\"  # emoticons\n",
    "        u\"\\U0001F300-\\U0001F5FF\"  # symbols & pictographs\n",
    "        u\"\\U0001F680-\\U0001F6FF\"  # transport & map symbols\n",
    "        u\"\\U0001F1E0-\\U0001F1FF\"  # flags (iOS)\n",
    "                           \"]+\", flags = re.UNICODE)\n",
    "\n",
    "    text = text.lower()\n",
    "    text = re.sub('((www\\.[^\\s]+)|(https?://[^\\s]+)|(http?://[^\\s]+)|(https[^\\s]+))|(http[^\\s]+)|(www[^\\s]+)', 'url', text)\n",
    "    text = regrex_pattern_alphanumeric.sub('alphanumeric', text)\n",
    "    text = regrex_pattern_emoticons.sub(' emoticon ', text)\n",
    "    text = re.sub('@[^\\s]+', 'user', text)\n",
    "    text = regrex_pattern.sub(' ', text)\n",
    "    text = ' '.join(text.split())\n",
    "\n",
    "    lemmatizer = WordNetLemmatizer()\n",
    "    text = [lemmatizer.lemmatize(word) for word in text.split()]\n",
    "    stop_words = set(stopwords.words(\"english\"))\n",
    "    text = ' '.join(word for word in text if not word in stop_words)\n",
    "\n",
    "    return text"
   ]
  },
  {
   "cell_type": "code",
   "execution_count": 11,
   "metadata": {},
   "outputs": [],
   "source": [
    "df2['text'] = df2['text'].apply(df_preprocess)"
   ]
  },
  {
   "cell_type": "code",
   "execution_count": 12,
   "metadata": {},
   "outputs": [
    {
     "data": {
      "text/html": [
       "<div>\n",
       "<style scoped>\n",
       "    .dataframe tbody tr th:only-of-type {\n",
       "        vertical-align: middle;\n",
       "    }\n",
       "\n",
       "    .dataframe tbody tr th {\n",
       "        vertical-align: top;\n",
       "    }\n",
       "\n",
       "    .dataframe thead th {\n",
       "        text-align: right;\n",
       "    }\n",
       "</style>\n",
       "<table border=\"1\" class=\"dataframe\">\n",
       "  <thead>\n",
       "    <tr style=\"text-align: right;\">\n",
       "      <th></th>\n",
       "      <th>text_type</th>\n",
       "      <th>text</th>\n",
       "    </tr>\n",
       "  </thead>\n",
       "  <tbody>\n",
       "    <tr>\n",
       "      <th>0</th>\n",
       "      <td>0</td>\n",
       "      <td>make sure alex know birthday fifteen minute fa...</td>\n",
       "    </tr>\n",
       "    <tr>\n",
       "      <th>1</th>\n",
       "      <td>0</td>\n",
       "      <td>resume john lavorato thanks vince get moving r...</td>\n",
       "    </tr>\n",
       "    <tr>\n",
       "      <th>2</th>\n",
       "      <td>1</td>\n",
       "      <td>plzz visit website moviesgodml get movie free ...</td>\n",
       "    </tr>\n",
       "    <tr>\n",
       "      <th>3</th>\n",
       "      <td>1</td>\n",
       "      <td>urgent mobile number ha awarded 2000 prize gua...</td>\n",
       "    </tr>\n",
       "    <tr>\n",
       "      <th>4</th>\n",
       "      <td>0</td>\n",
       "      <td>overview hr associate analyst project per davi...</td>\n",
       "    </tr>\n",
       "  </tbody>\n",
       "</table>\n",
       "</div>"
      ],
      "text/plain": [
       "  text_type                                               text\n",
       "0         0  make sure alex know birthday fifteen minute fa...\n",
       "1         0  resume john lavorato thanks vince get moving r...\n",
       "2         1  plzz visit website moviesgodml get movie free ...\n",
       "3         1  urgent mobile number ha awarded 2000 prize gua...\n",
       "4         0  overview hr associate analyst project per davi..."
      ]
     },
     "execution_count": 12,
     "metadata": {},
     "output_type": "execute_result"
    }
   ],
   "source": [
    "df2.head()"
   ]
  },
  {
   "cell_type": "code",
   "execution_count": 13,
   "metadata": {},
   "outputs": [
    {
     "data": {
      "text/html": [
       "<div>\n",
       "<style scoped>\n",
       "    .dataframe tbody tr th:only-of-type {\n",
       "        vertical-align: middle;\n",
       "    }\n",
       "\n",
       "    .dataframe tbody tr th {\n",
       "        vertical-align: top;\n",
       "    }\n",
       "\n",
       "    .dataframe thead th {\n",
       "        text-align: right;\n",
       "    }\n",
       "</style>\n",
       "<table border=\"1\" class=\"dataframe\">\n",
       "  <thead>\n",
       "    <tr style=\"text-align: right;\">\n",
       "      <th></th>\n",
       "      <th>text_type</th>\n",
       "      <th>text</th>\n",
       "    </tr>\n",
       "  </thead>\n",
       "  <tbody>\n",
       "    <tr>\n",
       "      <th>3235</th>\n",
       "      <td>0</td>\n",
       "      <td></td>\n",
       "    </tr>\n",
       "    <tr>\n",
       "      <th>3300</th>\n",
       "      <td>0</td>\n",
       "      <td></td>\n",
       "    </tr>\n",
       "    <tr>\n",
       "      <th>3546</th>\n",
       "      <td>0</td>\n",
       "      <td></td>\n",
       "    </tr>\n",
       "    <tr>\n",
       "      <th>5572</th>\n",
       "      <td>0</td>\n",
       "      <td></td>\n",
       "    </tr>\n",
       "    <tr>\n",
       "      <th>6353</th>\n",
       "      <td>0</td>\n",
       "      <td></td>\n",
       "    </tr>\n",
       "    <tr>\n",
       "      <th>6885</th>\n",
       "      <td>0</td>\n",
       "      <td></td>\n",
       "    </tr>\n",
       "    <tr>\n",
       "      <th>7437</th>\n",
       "      <td>0</td>\n",
       "      <td></td>\n",
       "    </tr>\n",
       "    <tr>\n",
       "      <th>9311</th>\n",
       "      <td>1</td>\n",
       "      <td></td>\n",
       "    </tr>\n",
       "    <tr>\n",
       "      <th>9763</th>\n",
       "      <td>0</td>\n",
       "      <td></td>\n",
       "    </tr>\n",
       "    <tr>\n",
       "      <th>10729</th>\n",
       "      <td>0</td>\n",
       "      <td></td>\n",
       "    </tr>\n",
       "    <tr>\n",
       "      <th>11060</th>\n",
       "      <td>0</td>\n",
       "      <td></td>\n",
       "    </tr>\n",
       "    <tr>\n",
       "      <th>11103</th>\n",
       "      <td>1</td>\n",
       "      <td></td>\n",
       "    </tr>\n",
       "    <tr>\n",
       "      <th>11606</th>\n",
       "      <td>0</td>\n",
       "      <td></td>\n",
       "    </tr>\n",
       "    <tr>\n",
       "      <th>13691</th>\n",
       "      <td>0</td>\n",
       "      <td></td>\n",
       "    </tr>\n",
       "    <tr>\n",
       "      <th>14193</th>\n",
       "      <td>1</td>\n",
       "      <td></td>\n",
       "    </tr>\n",
       "    <tr>\n",
       "      <th>14333</th>\n",
       "      <td>0</td>\n",
       "      <td></td>\n",
       "    </tr>\n",
       "    <tr>\n",
       "      <th>15705</th>\n",
       "      <td>0</td>\n",
       "      <td></td>\n",
       "    </tr>\n",
       "  </tbody>\n",
       "</table>\n",
       "</div>"
      ],
      "text/plain": [
       "      text_type text\n",
       "3235          0     \n",
       "3300          0     \n",
       "3546          0     \n",
       "5572          0     \n",
       "6353          0     \n",
       "6885          0     \n",
       "7437          0     \n",
       "9311          1     \n",
       "9763          0     \n",
       "10729         0     \n",
       "11060         0     \n",
       "11103         1     \n",
       "11606         0     \n",
       "13691         0     \n",
       "14193         1     \n",
       "14333         0     \n",
       "15705         0     "
      ]
     },
     "execution_count": 13,
     "metadata": {},
     "output_type": "execute_result"
    }
   ],
   "source": [
    "df2[df2['text'] == '']"
   ]
  },
  {
   "cell_type": "code",
   "execution_count": 14,
   "metadata": {},
   "outputs": [
    {
     "name": "stdout",
     "output_type": "stream",
     "text": [
      "text_type                                                  ham\n",
      "text         কলার চিন্তা পরে ফোন নিয়ে প্যারায় আছি সবাই মন...\n",
      "Name: 3300, dtype: object\n"
     ]
    }
   ],
   "source": [
    "print(df.iloc[3300])"
   ]
  },
  {
   "cell_type": "code",
   "execution_count": 15,
   "metadata": {},
   "outputs": [
    {
     "name": "stdout",
     "output_type": "stream",
     "text": [
      "df2 shape: (16267, 2)\n",
      "df3 shape: (16250, 2)\n"
     ]
    }
   ],
   "source": [
    "df3 = df2[df2['text'] != '']\n",
    "print(f'df2 shape: {df2.shape}')\n",
    "print(f'df3 shape: {df3.shape}')"
   ]
  },
  {
   "cell_type": "markdown",
   "metadata": {},
   "source": [
    "<h2>\"Векторизация\"</h2>"
   ]
  },
  {
   "cell_type": "code",
   "execution_count": 16,
   "metadata": {},
   "outputs": [],
   "source": [
    "from sklearn.feature_extraction.text import CountVectorizer\n",
    "from sklearn.feature_extraction.text import  TfidfVectorizer\n",
    "import gensim.downloader as api"
   ]
  },
  {
   "cell_type": "code",
   "execution_count": 17,
   "metadata": {},
   "outputs": [],
   "source": [
    "from sklearn.metrics import roc_auc_score\n",
    "from sklearn.metrics import accuracy_score\n",
    "from sklearn.metrics import recall_score\n",
    "\n",
    "from sklearn.neighbors import KNeighborsClassifier\n",
    "from sklearn.linear_model import LogisticRegression\n",
    "from sklearn.svm import SVC\n",
    "from sklearn.naive_bayes import ComplementNB\n",
    "from sklearn.ensemble import RandomForestClassifier\n",
    "from xgboost import XGBClassifier\n",
    "from catboost import CatBoostClassifier"
   ]
  },
  {
   "cell_type": "code",
   "execution_count": 18,
   "metadata": {},
   "outputs": [
    {
     "name": "stdout",
     "output_type": "stream",
     "text": [
      "['sorry ill call later' 'breaking 95000 holder' 'filter'\n",
      " 'okie wan meet bishan co bishan im driving today'\n",
      " 'santa calling would little one like call santa xmas eve call 09077818151 book time calls150ppm last 3mins 30 tc url'\n",
      " 'ace boogie welcome emoticon girl boy group emoticon group emoticon unlimited emoticon user user user user emoticon dating group emoticon user user user user user user user user ace boogie download 1million video emoticon new video desi indian video'\n",
      " 'guzzle like fountain spur rock customer speaks girlfriend really enjoying making homemade erotic film get pretending like porn star even though ever two u see one thing wa really missing movie wa money shot frank wa lucky money shot wa worth dollar ordered spur home movie end gigantic cum shot would make even veteran porn star jealous thanks spur helping spice sex life anthony ky spur really work ha improved sperm motility morphology point girlfriend pregnant fertility blend really doe help improve male fertility sperm quality'\n",
      " 'let ur heart ur compass ur mind ur map ur soul ur guide u never loose worldgnun sent via way2smscom'\n",
      " 'dabhol report narottam fact received copy report wa something sent e mail please resend could make appropriate comment please asap since waiting report give comment time regard sandeep narottam aul 05 06 2001 08 25 53 pm please respond cc subject dabhol report sandeep trust opportunity review draft dabhol report wa sent 24 april 2001 assume circulation report relevant people within dabhol enron ha done end helpful comment collated send report amended incorporate comment final v'\n",
      " 'masayuki fujita mitsubishi research institute enron eight month work sally beck december attended exotic energy derivative conference met masayuki fujita mitsubishi research institute research deregulation japanese power market lunch together chatted time work worked japanese company 8 1 2 year speak fluent japanese got along easily wa houston week came visit monday met vince kaminski grant masson later dinner sally suggested introduce alan aronowitz course town meet alan said would probably want meet']\n"
     ]
    }
   ],
   "source": [
    "y, X = list(zip(*df3.to_numpy()))\n",
    "X = np.array(X)\n",
    "y = np.array(y)\n",
    "\n",
    "X_train, X_test, y_train, y_test = train_test_split(X, y, test_size=0.3, random_state=21)\n",
    "print(X_train[:10])"
   ]
  },
  {
   "cell_type": "code",
   "execution_count": 64,
   "metadata": {},
   "outputs": [],
   "source": [
    "#Векторизация с помощью: Bag of words\n",
    "vectorizer_BOW = CountVectorizer(ngram_range=(1, 3))\n",
    "\n",
    "X_train_BOW = vectorizer_BOW.fit_transform(X_train)\n",
    "X_test_BOW = vectorizer_BOW.transform(X_test)"
   ]
  },
  {
   "cell_type": "code",
   "execution_count": 66,
   "metadata": {},
   "outputs": [
    {
     "name": "stdout",
     "output_type": "stream",
     "text": [
      "(11375, 544343) (4875, 544343)\n"
     ]
    },
    {
     "data": {
      "text/plain": [
       "<1x544343 sparse matrix of type '<class 'numpy.int64'>'\n",
       "\twith 203 stored elements in Compressed Sparse Row format>"
      ]
     },
     "execution_count": 66,
     "metadata": {},
     "output_type": "execute_result"
    }
   ],
   "source": [
    "print(X_train_BOW.shape, X_test_BOW.shape)\n",
    "X_train_BOW[200]"
   ]
  },
  {
   "cell_type": "code",
   "execution_count": 65,
   "metadata": {},
   "outputs": [],
   "source": [
    "#Векторизация с помощью: TF-IDF\n",
    "vectorizer_TFIDF = TfidfVectorizer(ngram_range=(1, 3))\n",
    "\n",
    "X_train_TFIDF = vectorizer_TFIDF.fit_transform(X_train)\n",
    "X_test_TFIDF = vectorizer_TFIDF.transform(X_test)"
   ]
  },
  {
   "cell_type": "code",
   "execution_count": 22,
   "metadata": {},
   "outputs": [
    {
     "name": "stdout",
     "output_type": "stream",
     "text": [
      "(11375, 544343) (4875, 544343)\n"
     ]
    }
   ],
   "source": [
    "print(X_train_TFIDF.shape, X_test_TFIDF.shape)"
   ]
  },
  {
   "cell_type": "code",
   "execution_count": 23,
   "metadata": {},
   "outputs": [
    {
     "data": {
      "text/plain": [
       "<1x544343 sparse matrix of type '<class 'numpy.float64'>'\n",
       "\twith 203 stored elements in Compressed Sparse Row format>"
      ]
     },
     "execution_count": 23,
     "metadata": {},
     "output_type": "execute_result"
    }
   ],
   "source": [
    "X_train_TFIDF[200]"
   ]
  },
  {
   "cell_type": "code",
   "execution_count": 24,
   "metadata": {},
   "outputs": [
    {
     "data": {
      "text/plain": [
       "[('dog', 0.875208854675293),\n",
       " ('kitty', 0.8015091419219971),\n",
       " ('pet', 0.7986468076705933),\n",
       " ('cats', 0.797942578792572),\n",
       " ('kitten', 0.7936834096908569),\n",
       " ('puppy', 0.7702749967575073),\n",
       " ('monkey', 0.758426308631897),\n",
       " ('bear', 0.7507943511009216),\n",
       " ('dogs', 0.7460062503814697),\n",
       " ('pig', 0.7117346525192261)]"
      ]
     },
     "execution_count": 24,
     "metadata": {},
     "output_type": "execute_result"
    }
   ],
   "source": [
    "#Векторизация с помощью: GloVe\n",
    "glove_model = api.load(\"glove-twitter-100\")  \n",
    "glove_model.most_similar(\"cat\")"
   ]
  },
  {
   "cell_type": "code",
   "execution_count": 25,
   "metadata": {},
   "outputs": [],
   "source": [
    "def replace_digital(text):\n",
    "    text = re.sub('[0-9]+', 'number', text)\n",
    "    return text"
   ]
  },
  {
   "cell_type": "code",
   "execution_count": 68,
   "metadata": {},
   "outputs": [
    {
     "name": "stderr",
     "output_type": "stream",
     "text": [
      "<ipython-input-68-380bcb86a0f2>:36: VisibleDeprecationWarning: Creating an ndarray from ragged nested sequences (which is a list-or-tuple of lists-or-tuples-or ndarrays with different lengths or shapes) is deprecated. If you meant to do this, you must specify 'dtype=object' when creating the ndarray.\n",
      "  X_test_glove = np.array(X_test_glove)\n"
     ]
    }
   ],
   "source": [
    "X_train_tokens = [replace_digital(row).split() for row in X_train]\n",
    "X_train_glove = []\n",
    "\n",
    "word_unknown = glove_model['unknown']\n",
    "for row in X_train_tokens:\n",
    "    new_row = list(map(lambda x: glove_model[x] if x in glove_model else word_unknown, row))\n",
    "    X_train_glove.append(np.concatenate(new_row))\n",
    "\n",
    "\n",
    "max_len = 0\n",
    "for row in X_train_glove:\n",
    "    if len(row) >= max_len:\n",
    "        max_len = len(row)\n",
    "\n",
    "len_x_train = len(X_train_glove)\n",
    "for i in range(len_x_train):\n",
    "    if len(X_train_glove[i]) < max_len:\n",
    "        buf = np.array([0] * (max_len - len(X_train_glove[i])))\n",
    "        X_train_glove[i] = np.concatenate([X_train_glove[i], buf])\n",
    "\n",
    "X_train_glove = np.array(X_train_glove)\n",
    "\n",
    "X_test_tokens = [replace_digital(row).split() for row in X_test]\n",
    "X_test_glove = []\n",
    "\n",
    "for row in X_test_tokens:\n",
    "    new_row = list(map(lambda x: glove_model[x] if x in glove_model else word_unknown, row))\n",
    "    X_test_glove.append(np.concatenate(new_row))\n",
    "\n",
    "len_x_train = len(X_test_glove)\n",
    "for i in range(len_x_train):\n",
    "    if len(X_test_glove[i]) < max_len:\n",
    "        buf = np.array([0] * (max_len - len(X_test_glove[i])))\n",
    "        X_test_glove[i] = np.concatenate([X_test_glove[i], buf])\n",
    "\n",
    "X_test_glove = np.array(X_test_glove)"
   ]
  },
  {
   "cell_type": "markdown",
   "metadata": {},
   "source": [
    "<h2>Обучение классификаторов</h2>"
   ]
  },
  {
   "cell_type": "code",
   "execution_count": 27,
   "metadata": {},
   "outputs": [
    {
     "data": {
      "text/plain": [
       "KNeighborsClassifier(metric='cosine', n_neighbors=10)"
      ]
     },
     "execution_count": 27,
     "metadata": {},
     "output_type": "execute_result"
    }
   ],
   "source": [
    "knn = KNeighborsClassifier(n_neighbors = 10, metric = 'cosine')\n",
    "knn.fit(X_train_BOW, y_train)\n",
    "\n",
    "knn_TFIDF = KNeighborsClassifier(n_neighbors = 10, metric = 'cosine')\n",
    "knn_TFIDF.fit(X_train_TFIDF, y_train)\n",
    "\n",
    "knn_glove = KNeighborsClassifier(n_neighbors = 10, metric = 'cosine')\n",
    "knn_glove.fit(X_train_glove, y_train)"
   ]
  },
  {
   "cell_type": "code",
   "execution_count": 28,
   "metadata": {},
   "outputs": [
    {
     "data": {
      "text/plain": [
       "LogisticRegression(class_weight='balanced', max_iter=400)"
      ]
     },
     "execution_count": 28,
     "metadata": {},
     "output_type": "execute_result"
    }
   ],
   "source": [
    "log_regr = LogisticRegression(class_weight = 'balanced', max_iter = 200)\n",
    "log_regr.fit(X_train_BOW, y_train)\n",
    "\n",
    "log_regr_TFIDF = LogisticRegression(class_weight = 'balanced', max_iter = 200)\n",
    "log_regr_TFIDF.fit(X_train_TFIDF, y_train)\n",
    "\n",
    "log_regr_glove = LogisticRegression(class_weight = 'balanced', max_iter = 400)\n",
    "log_regr_glove.fit(X_train_glove, y_train)"
   ]
  },
  {
   "cell_type": "code",
   "execution_count": 29,
   "metadata": {},
   "outputs": [
    {
     "name": "stderr",
     "output_type": "stream",
     "text": [
      "c:\\Users\\sebas\\anaconda3\\lib\\site-packages\\sklearn\\svm\\_base.py:255: ConvergenceWarning: Solver terminated early (max_iter=100).  Consider pre-processing your data with StandardScaler or MinMaxScaler.\n",
      "  warnings.warn('Solver terminated early (max_iter=%i).'\n"
     ]
    },
    {
     "data": {
      "text/plain": [
       "SVC(class_weight='balanced', max_iter=100)"
      ]
     },
     "execution_count": 29,
     "metadata": {},
     "output_type": "execute_result"
    }
   ],
   "source": [
    "svc = SVC(class_weight = 'balanced')\n",
    "svc.fit(X_train_BOW, y_train)\n",
    "\n",
    "svc_TFIDF = SVC(class_weight = 'balanced')\n",
    "svc_TFIDF.fit(X_train_TFIDF, y_train)\n",
    "\n",
    "svc_glove = SVC(class_weight = 'balanced', max_iter = 100)\n",
    "svc_glove.fit(X_train_glove, y_train)"
   ]
  },
  {
   "cell_type": "code",
   "execution_count": 32,
   "metadata": {},
   "outputs": [
    {
     "data": {
      "text/plain": [
       "ComplementNB()"
      ]
     },
     "execution_count": 32,
     "metadata": {},
     "output_type": "execute_result"
    }
   ],
   "source": [
    "nb = ComplementNB()\n",
    "nb.fit(X_train_BOW, y_train)\n",
    "\n",
    "nb_TFIDF = ComplementNB()\n",
    "nb_TFIDF.fit(X_train_TFIDF, y_train)"
   ]
  },
  {
   "cell_type": "code",
   "execution_count": 33,
   "metadata": {},
   "outputs": [
    {
     "data": {
      "text/plain": [
       "RandomForestClassifier()"
      ]
     },
     "execution_count": 33,
     "metadata": {},
     "output_type": "execute_result"
    }
   ],
   "source": [
    "rand_forest = RandomForestClassifier()\n",
    "rand_forest.fit(X_train_BOW, y_train)\n",
    "\n",
    "rand_forest_TFIDF = RandomForestClassifier()\n",
    "rand_forest_TFIDF.fit(X_train_TFIDF, y_train)\n",
    "\n",
    "rand_forest_glove = RandomForestClassifier()\n",
    "rand_forest_glove.fit(X_train_glove, y_train)"
   ]
  },
  {
   "cell_type": "code",
   "execution_count": 34,
   "metadata": {},
   "outputs": [
    {
     "data": {
      "text/plain": [
       "XGBClassifier(base_score=None, booster=None, callbacks=None,\n",
       "              colsample_bylevel=None, colsample_bynode=None,\n",
       "              colsample_bytree=None, device=None, early_stopping_rounds=None,\n",
       "              enable_categorical=False, eval_metric=None, feature_types=None,\n",
       "              gamma=None, grow_policy=None, importance_type=None,\n",
       "              interaction_constraints=None, learning_rate=None, max_bin=None,\n",
       "              max_cat_threshold=None, max_cat_to_onehot=None,\n",
       "              max_delta_step=None, max_depth=None, max_leaves=None,\n",
       "              min_child_weight=None, missing=nan, monotone_constraints=None,\n",
       "              multi_strategy=None, n_estimators=None, n_jobs=None,\n",
       "              num_parallel_tree=None, random_state=None, ...)"
      ]
     },
     "execution_count": 34,
     "metadata": {},
     "output_type": "execute_result"
    }
   ],
   "source": [
    "xgb = XGBClassifier()\n",
    "xgb.fit(X_train_BOW, y_train)\n",
    "\n",
    "xgb_TFIDF = XGBClassifier()\n",
    "xgb_TFIDF.fit(X_train_TFIDF, y_train)\n",
    "\n",
    "xgb_glove = XGBClassifier()\n",
    "xgb_glove.fit(X_train_glove, y_train)"
   ]
  },
  {
   "cell_type": "code",
   "execution_count": null,
   "metadata": {},
   "outputs": [
    {
     "name": "stdout",
     "output_type": "stream",
     "text": [
      "0:\tlearn: 0.6488584\ttest: 0.6489202\tbest: 0.6489202 (0)\ttotal: 1.94s\tremaining: 32m 23s\n",
      "200:\tlearn: 0.1862464\ttest: 0.2279813\tbest: 0.2279813 (200)\ttotal: 5m 50s\tremaining: 23m 13s\n",
      "400:\tlearn: 0.1452739\ttest: 0.2072736\tbest: 0.2072736 (400)\ttotal: 11m 36s\tremaining: 17m 20s\n",
      "600:\tlearn: 0.1215847\ttest: 0.1976670\tbest: 0.1976670 (600)\ttotal: 17m 23s\tremaining: 11m 33s\n",
      "800:\tlearn: 0.1042544\ttest: 0.1917579\tbest: 0.1917532 (799)\ttotal: 23m 10s\tremaining: 5m 45s\n",
      "999:\tlearn: 0.0904869\ttest: 0.1864115\tbest: 0.1864022 (997)\ttotal: 28m 52s\tremaining: 0us\n",
      "\n",
      "bestTest = 0.1864021983\n",
      "bestIteration = 997\n",
      "\n",
      "Shrink model to first 998 iterations.\n"
     ]
    },
    {
     "data": {
      "text/plain": [
       "<catboost.core.CatBoostClassifier at 0x1de18a8f100>"
      ]
     },
     "execution_count": 36,
     "metadata": {},
     "output_type": "execute_result"
    }
   ],
   "source": [
    "# catboost = CatBoostClassifier(\n",
    "#     iterations = 1000,\n",
    "#     learning_rate = 0.1,\n",
    "#     custom_loss = ['AUC', 'Accuracy'])\n",
    "\n",
    "# catboost.fit(X_train_BOW, y_train,\n",
    "#         eval_set = (X_test_BOW, y_test),\n",
    "#         verbose = 200)"
   ]
  },
  {
   "cell_type": "code",
   "execution_count": null,
   "metadata": {},
   "outputs": [],
   "source": [
    "#catboost.save_model('catboost_BOW')"
   ]
  },
  {
   "cell_type": "code",
   "execution_count": 36,
   "metadata": {},
   "outputs": [],
   "source": [
    "catboost_BOW = CatBoostClassifier().load_model('catboost_BOW')"
   ]
  },
  {
   "cell_type": "code",
   "execution_count": null,
   "metadata": {},
   "outputs": [
    {
     "name": "stdout",
     "output_type": "stream",
     "text": [
      "0:\tlearn: 0.6268112\ttest: 0.6212080\tbest: 0.6212080 (0)\ttotal: 1.82s\tremaining: 30m 16s\n",
      "200:\tlearn: 0.1683011\ttest: 0.2229566\tbest: 0.2228808 (199)\ttotal: 5m 50s\tremaining: 23m 13s\n",
      "400:\tlearn: 0.1229462\ttest: 0.2053478\tbest: 0.2053478 (400)\ttotal: 11m 38s\tremaining: 17m 23s\n",
      "600:\tlearn: 0.0978043\ttest: 0.1984136\tbest: 0.1984136 (600)\ttotal: 17m 24s\tremaining: 11m 33s\n",
      "800:\tlearn: 0.0799562\ttest: 0.1946916\tbest: 0.1946740 (799)\ttotal: 23m 12s\tremaining: 5m 45s\n",
      "999:\tlearn: 0.0662885\ttest: 0.1937758\tbest: 0.1930122 (893)\ttotal: 28m 58s\tremaining: 0us\n",
      "\n",
      "bestTest = 0.1930121513\n",
      "bestIteration = 893\n",
      "\n",
      "Shrink model to first 894 iterations.\n"
     ]
    },
    {
     "data": {
      "text/plain": [
       "<catboost.core.CatBoostClassifier at 0x1de26602490>"
      ]
     },
     "execution_count": 37,
     "metadata": {},
     "output_type": "execute_result"
    }
   ],
   "source": [
    "# catboost_TFIDF = CatBoostClassifier(\n",
    "#     iterations = 1000,\n",
    "#     learning_rate = 0.1,\n",
    "#     custom_loss = ['AUC', 'Accuracy']\n",
    "# )\n",
    "\n",
    "# catboost_TFIDF.fit(X_train_TFIDF, y_train,\n",
    "#         eval_set = (X_test_TFIDF, y_test),\n",
    "#         verbose = 200\n",
    "# )"
   ]
  },
  {
   "cell_type": "code",
   "execution_count": null,
   "metadata": {},
   "outputs": [],
   "source": [
    "#catboost_TFIDF.save_model('catboost_TFIDF')"
   ]
  },
  {
   "cell_type": "code",
   "execution_count": 37,
   "metadata": {},
   "outputs": [],
   "source": [
    "catboost_TFIDF = CatBoostClassifier().load_model('catboost_TFIDF')"
   ]
  },
  {
   "cell_type": "markdown",
   "metadata": {},
   "source": [
    "<h2>Тестирование</h2>"
   ]
  },
  {
   "cell_type": "code",
   "execution_count": 38,
   "metadata": {},
   "outputs": [],
   "source": [
    "def h_max(row):\n",
    "\tis_max = row == row.max()\n",
    "\treturn ['color: green' if cell else '' for cell in is_max]\n",
    "\n",
    "def h_min(row):\n",
    "\tis_min = row == row.min()\n",
    "\treturn ['color: red' if cell else '' for cell in is_min]\n",
    "\n",
    "def calc_score(models, models_name, X_train, y_train, X_test, y_test):\n",
    "\n",
    "    data = dict()\n",
    "    for i, model in enumerate(models):\n",
    "        score = []\n",
    "\n",
    "        y_predict_train = model.predict(X_train)\n",
    "        y_predict_test = model.predict(X_test)\n",
    "\n",
    "        score.append(round(accuracy_score(y_predict_train, y_train), 3))\n",
    "        score.append(round(accuracy_score(y_predict_test, y_test), 3))\n",
    "        score.append(round(recall_score(y_predict_train, y_train), 3))\n",
    "        score.append(round(recall_score(y_predict_test, y_test), 3))\n",
    "        score.append(round(roc_auc_score(y_predict_train, y_train), 3))\n",
    "        score.append(round(roc_auc_score(y_predict_test, y_test), 3))\n",
    "\n",
    "        data[models_name[i]] = score\n",
    "    \n",
    "    index = ['accuracy_train', 'accuracy_test', 'recall_train', 'recall_test', 'roc_auc_train', 'roc_auc_test']\n",
    "    df_score = pd.DataFrame(data, index = index)\n",
    "    return df_score.style.apply(h_max, axis = 1).apply(h_min, axis = 1).format('{:.3f}')"
   ]
  },
  {
   "cell_type": "code",
   "execution_count": 39,
   "metadata": {},
   "outputs": [
    {
     "name": "stderr",
     "output_type": "stream",
     "text": [
      "c:\\Users\\sebas\\anaconda3\\lib\\site-packages\\sklearn\\neighbors\\_classification.py:211: FutureWarning: Unlike other reduction functions (e.g. `skew`, `kurtosis`), the default behavior of `mode` typically preserves the axis it acts along. In SciPy 1.11.0, this behavior will change: the default value of `keepdims` will become False, the `axis` over which the statistic is taken will be eliminated, and the value None will no longer be accepted. Set `keepdims` to True or False to avoid this warning.\n",
      "  mode, _ = stats.mode(_y[neigh_ind, k], axis=1)\n"
     ]
    },
    {
     "data": {
      "text/html": [
       "<style  type=\"text/css\" >\n",
       "#T_fdd06_row0_col4,#T_fdd06_row1_col1,#T_fdd06_row2_col4,#T_fdd06_row3_col4,#T_fdd06_row4_col4,#T_fdd06_row5_col1{\n",
       "            color:  green;\n",
       "        }#T_fdd06_row0_col6,#T_fdd06_row1_col6,#T_fdd06_row2_col6,#T_fdd06_row3_col6,#T_fdd06_row4_col6,#T_fdd06_row5_col6{\n",
       "            color:  red;\n",
       "        }</style><table id=\"T_fdd06_\" ><thead>    <tr>        <th class=\"blank level0\" ></th>        <th class=\"col_heading level0 col0\" >KNN</th>        <th class=\"col_heading level0 col1\" >Log_Regr</th>        <th class=\"col_heading level0 col2\" >SVM</th>        <th class=\"col_heading level0 col3\" >NB</th>        <th class=\"col_heading level0 col4\" >Rand_forest</th>        <th class=\"col_heading level0 col5\" >xgb</th>        <th class=\"col_heading level0 col6\" >catboost</th>    </tr></thead><tbody>\n",
       "                <tr>\n",
       "                        <th id=\"T_fdd06_level0_row0\" class=\"row_heading level0 row0\" >accuracy_train</th>\n",
       "                        <td id=\"T_fdd06_row0_col0\" class=\"data row0 col0\" >0.875</td>\n",
       "                        <td id=\"T_fdd06_row0_col1\" class=\"data row0 col1\" >0.998</td>\n",
       "                        <td id=\"T_fdd06_row0_col2\" class=\"data row0 col2\" >0.973</td>\n",
       "                        <td id=\"T_fdd06_row0_col3\" class=\"data row0 col3\" >0.973</td>\n",
       "                        <td id=\"T_fdd06_row0_col4\" class=\"data row0 col4\" >0.999</td>\n",
       "                        <td id=\"T_fdd06_row0_col5\" class=\"data row0 col5\" >0.959</td>\n",
       "                        <td id=\"T_fdd06_row0_col6\" class=\"data row0 col6\" >0.706</td>\n",
       "            </tr>\n",
       "            <tr>\n",
       "                        <th id=\"T_fdd06_level0_row1\" class=\"row_heading level0 row1\" >accuracy_test</th>\n",
       "                        <td id=\"T_fdd06_row1_col0\" class=\"data row1 col0\" >0.865</td>\n",
       "                        <td id=\"T_fdd06_row1_col1\" class=\"data row1 col1\" >0.949</td>\n",
       "                        <td id=\"T_fdd06_row1_col2\" class=\"data row1 col2\" >0.934</td>\n",
       "                        <td id=\"T_fdd06_row1_col3\" class=\"data row1 col3\" >0.917</td>\n",
       "                        <td id=\"T_fdd06_row1_col4\" class=\"data row1 col4\" >0.898</td>\n",
       "                        <td id=\"T_fdd06_row1_col5\" class=\"data row1 col5\" >0.934</td>\n",
       "                        <td id=\"T_fdd06_row1_col6\" class=\"data row1 col6\" >0.697</td>\n",
       "            </tr>\n",
       "            <tr>\n",
       "                        <th id=\"T_fdd06_level0_row2\" class=\"row_heading level0 row2\" >recall_train</th>\n",
       "                        <td id=\"T_fdd06_row2_col0\" class=\"data row2 col0\" >0.940</td>\n",
       "                        <td id=\"T_fdd06_row2_col1\" class=\"data row2 col1\" >0.997</td>\n",
       "                        <td id=\"T_fdd06_row2_col2\" class=\"data row2 col2\" >0.977</td>\n",
       "                        <td id=\"T_fdd06_row2_col3\" class=\"data row2 col3\" >0.916</td>\n",
       "                        <td id=\"T_fdd06_row2_col4\" class=\"data row2 col4\" >0.999</td>\n",
       "                        <td id=\"T_fdd06_row2_col5\" class=\"data row2 col5\" >0.976</td>\n",
       "                        <td id=\"T_fdd06_row2_col6\" class=\"data row2 col6\" >0.219</td>\n",
       "            </tr>\n",
       "            <tr>\n",
       "                        <th id=\"T_fdd06_level0_row3\" class=\"row_heading level0 row3\" >recall_test</th>\n",
       "                        <td id=\"T_fdd06_row3_col0\" class=\"data row3 col0\" >0.917</td>\n",
       "                        <td id=\"T_fdd06_row3_col1\" class=\"data row3 col1\" >0.942</td>\n",
       "                        <td id=\"T_fdd06_row3_col2\" class=\"data row3 col2\" >0.938</td>\n",
       "                        <td id=\"T_fdd06_row3_col3\" class=\"data row3 col3\" >0.829</td>\n",
       "                        <td id=\"T_fdd06_row3_col4\" class=\"data row3 col4\" >0.971</td>\n",
       "                        <td id=\"T_fdd06_row3_col5\" class=\"data row3 col5\" >0.929</td>\n",
       "                        <td id=\"T_fdd06_row3_col6\" class=\"data row3 col6\" >0.250</td>\n",
       "            </tr>\n",
       "            <tr>\n",
       "                        <th id=\"T_fdd06_level0_row4\" class=\"row_heading level0 row4\" >roc_auc_train</th>\n",
       "                        <td id=\"T_fdd06_row4_col0\" class=\"data row4 col0\" >0.900</td>\n",
       "                        <td id=\"T_fdd06_row4_col1\" class=\"data row4 col1\" >0.998</td>\n",
       "                        <td id=\"T_fdd06_row4_col2\" class=\"data row4 col2\" >0.974</td>\n",
       "                        <td id=\"T_fdd06_row4_col3\" class=\"data row4 col3\" >0.958</td>\n",
       "                        <td id=\"T_fdd06_row4_col4\" class=\"data row4 col4\" >0.999</td>\n",
       "                        <td id=\"T_fdd06_row4_col5\" class=\"data row4 col5\" >0.965</td>\n",
       "                        <td id=\"T_fdd06_row4_col6\" class=\"data row4 col6\" >0.463</td>\n",
       "            </tr>\n",
       "            <tr>\n",
       "                        <th id=\"T_fdd06_level0_row5\" class=\"row_heading level0 row5\" >roc_auc_test</th>\n",
       "                        <td id=\"T_fdd06_row5_col0\" class=\"data row5 col0\" >0.884</td>\n",
       "                        <td id=\"T_fdd06_row5_col1\" class=\"data row5 col1\" >0.947</td>\n",
       "                        <td id=\"T_fdd06_row5_col2\" class=\"data row5 col2\" >0.935</td>\n",
       "                        <td id=\"T_fdd06_row5_col3\" class=\"data row5 col3\" >0.895</td>\n",
       "                        <td id=\"T_fdd06_row5_col4\" class=\"data row5 col4\" >0.925</td>\n",
       "                        <td id=\"T_fdd06_row5_col5\" class=\"data row5 col5\" >0.933</td>\n",
       "                        <td id=\"T_fdd06_row5_col6\" class=\"data row5 col6\" >0.473</td>\n",
       "            </tr>\n",
       "    </tbody></table>"
      ],
      "text/plain": [
       "<pandas.io.formats.style.Styler at 0x221dc8906a0>"
      ]
     },
     "execution_count": 39,
     "metadata": {},
     "output_type": "execute_result"
    }
   ],
   "source": [
    "models = [knn, log_regr, svc, nb, rand_forest, xgb, catboost_BOW]\n",
    "models_name = ['KNN', 'Log_Regr', 'SVM', 'NB', 'Rand_forest', 'xgb', 'catboost']\n",
    "\n",
    "param = {'models': models,\n",
    "         'models_name': models_name,\n",
    "         'X_train': X_train_BOW,\n",
    "         'y_train': y_train,\n",
    "         'X_test': X_test_BOW,\n",
    "         'y_test': y_test}\n",
    "\n",
    "result = calc_score(**param)\n",
    "result"
   ]
  },
  {
   "cell_type": "code",
   "execution_count": 40,
   "metadata": {},
   "outputs": [
    {
     "name": "stderr",
     "output_type": "stream",
     "text": [
      "c:\\Users\\sebas\\anaconda3\\lib\\site-packages\\sklearn\\neighbors\\_classification.py:211: FutureWarning: Unlike other reduction functions (e.g. `skew`, `kurtosis`), the default behavior of `mode` typically preserves the axis it acts along. In SciPy 1.11.0, this behavior will change: the default value of `keepdims` will become False, the `axis` over which the statistic is taken will be eliminated, and the value None will no longer be accepted. Set `keepdims` to True or False to avoid this warning.\n",
      "  mode, _ = stats.mode(_y[neigh_ind, k], axis=1)\n"
     ]
    },
    {
     "data": {
      "text/html": [
       "<style  type=\"text/css\" >\n",
       "#T_32d68_row0_col4,#T_32d68_row1_col2,#T_32d68_row2_col4,#T_32d68_row3_col4,#T_32d68_row4_col4,#T_32d68_row5_col2{\n",
       "            color:  green;\n",
       "        }#T_32d68_row0_col6,#T_32d68_row1_col6,#T_32d68_row2_col6,#T_32d68_row3_col6,#T_32d68_row4_col6,#T_32d68_row5_col6{\n",
       "            color:  red;\n",
       "        }</style><table id=\"T_32d68_\" ><thead>    <tr>        <th class=\"blank level0\" ></th>        <th class=\"col_heading level0 col0\" >KNN</th>        <th class=\"col_heading level0 col1\" >Log_Regr</th>        <th class=\"col_heading level0 col2\" >SVM</th>        <th class=\"col_heading level0 col3\" >NB</th>        <th class=\"col_heading level0 col4\" >Rand_forest</th>        <th class=\"col_heading level0 col5\" >xgb</th>        <th class=\"col_heading level0 col6\" >catboost</th>    </tr></thead><tbody>\n",
       "                <tr>\n",
       "                        <th id=\"T_32d68_level0_row0\" class=\"row_heading level0 row0\" >accuracy_train</th>\n",
       "                        <td id=\"T_32d68_row0_col0\" class=\"data row0 col0\" >0.891</td>\n",
       "                        <td id=\"T_32d68_row0_col1\" class=\"data row0 col1\" >0.984</td>\n",
       "                        <td id=\"T_32d68_row0_col2\" class=\"data row0 col2\" >0.996</td>\n",
       "                        <td id=\"T_32d68_row0_col3\" class=\"data row0 col3\" >0.988</td>\n",
       "                        <td id=\"T_32d68_row0_col4\" class=\"data row0 col4\" >0.999</td>\n",
       "                        <td id=\"T_32d68_row0_col5\" class=\"data row0 col5\" >0.966</td>\n",
       "                        <td id=\"T_32d68_row0_col6\" class=\"data row0 col6\" >0.707</td>\n",
       "            </tr>\n",
       "            <tr>\n",
       "                        <th id=\"T_32d68_level0_row1\" class=\"row_heading level0 row1\" >accuracy_test</th>\n",
       "                        <td id=\"T_32d68_row1_col0\" class=\"data row1 col0\" >0.877</td>\n",
       "                        <td id=\"T_32d68_row1_col1\" class=\"data row1 col1\" >0.933</td>\n",
       "                        <td id=\"T_32d68_row1_col2\" class=\"data row1 col2\" >0.945</td>\n",
       "                        <td id=\"T_32d68_row1_col3\" class=\"data row1 col3\" >0.899</td>\n",
       "                        <td id=\"T_32d68_row1_col4\" class=\"data row1 col4\" >0.905</td>\n",
       "                        <td id=\"T_32d68_row1_col5\" class=\"data row1 col5\" >0.920</td>\n",
       "                        <td id=\"T_32d68_row1_col6\" class=\"data row1 col6\" >0.697</td>\n",
       "            </tr>\n",
       "            <tr>\n",
       "                        <th id=\"T_32d68_level0_row2\" class=\"row_heading level0 row2\" >recall_train</th>\n",
       "                        <td id=\"T_32d68_row2_col0\" class=\"data row2 col0\" >0.941</td>\n",
       "                        <td id=\"T_32d68_row2_col1\" class=\"data row2 col1\" >0.955</td>\n",
       "                        <td id=\"T_32d68_row2_col2\" class=\"data row2 col2\" >0.988</td>\n",
       "                        <td id=\"T_32d68_row2_col3\" class=\"data row2 col3\" >0.979</td>\n",
       "                        <td id=\"T_32d68_row2_col4\" class=\"data row2 col4\" >0.999</td>\n",
       "                        <td id=\"T_32d68_row2_col5\" class=\"data row2 col5\" >0.982</td>\n",
       "                        <td id=\"T_32d68_row2_col6\" class=\"data row2 col6\" >0.000</td>\n",
       "            </tr>\n",
       "            <tr>\n",
       "                        <th id=\"T_32d68_level0_row3\" class=\"row_heading level0 row3\" >recall_test</th>\n",
       "                        <td id=\"T_32d68_row3_col0\" class=\"data row3 col0\" >0.922</td>\n",
       "                        <td id=\"T_32d68_row3_col1\" class=\"data row3 col1\" >0.855</td>\n",
       "                        <td id=\"T_32d68_row3_col2\" class=\"data row3 col2\" >0.913</td>\n",
       "                        <td id=\"T_32d68_row3_col3\" class=\"data row3 col3\" >0.892</td>\n",
       "                        <td id=\"T_32d68_row3_col4\" class=\"data row3 col4\" >0.977</td>\n",
       "                        <td id=\"T_32d68_row3_col5\" class=\"data row3 col5\" >0.921</td>\n",
       "                        <td id=\"T_32d68_row3_col6\" class=\"data row3 col6\" >0.000</td>\n",
       "            </tr>\n",
       "            <tr>\n",
       "                        <th id=\"T_32d68_level0_row4\" class=\"row_heading level0 row4\" >roc_auc_train</th>\n",
       "                        <td id=\"T_32d68_row4_col0\" class=\"data row4 col0\" >0.909</td>\n",
       "                        <td id=\"T_32d68_row4_col1\" class=\"data row4 col1\" >0.976</td>\n",
       "                        <td id=\"T_32d68_row4_col2\" class=\"data row4 col2\" >0.994</td>\n",
       "                        <td id=\"T_32d68_row4_col3\" class=\"data row4 col3\" >0.986</td>\n",
       "                        <td id=\"T_32d68_row4_col4\" class=\"data row4 col4\" >0.999</td>\n",
       "                        <td id=\"T_32d68_row4_col5\" class=\"data row4 col5\" >0.971</td>\n",
       "                        <td id=\"T_32d68_row4_col6\" class=\"data row4 col6\" >0.354</td>\n",
       "            </tr>\n",
       "            <tr>\n",
       "                        <th id=\"T_32d68_level0_row5\" class=\"row_heading level0 row5\" >roc_auc_test</th>\n",
       "                        <td id=\"T_32d68_row5_col0\" class=\"data row5 col0\" >0.893</td>\n",
       "                        <td id=\"T_32d68_row5_col1\" class=\"data row5 col1\" >0.913</td>\n",
       "                        <td id=\"T_32d68_row5_col2\" class=\"data row5 col2\" >0.936</td>\n",
       "                        <td id=\"T_32d68_row5_col3\" class=\"data row5 col3\" >0.897</td>\n",
       "                        <td id=\"T_32d68_row5_col4\" class=\"data row5 col4\" >0.931</td>\n",
       "                        <td id=\"T_32d68_row5_col5\" class=\"data row5 col5\" >0.920</td>\n",
       "                        <td id=\"T_32d68_row5_col6\" class=\"data row5 col6\" >0.348</td>\n",
       "            </tr>\n",
       "    </tbody></table>"
      ],
      "text/plain": [
       "<pandas.io.formats.style.Styler at 0x221dc874670>"
      ]
     },
     "execution_count": 40,
     "metadata": {},
     "output_type": "execute_result"
    }
   ],
   "source": [
    "models_TFIDF = [knn_TFIDF, log_regr_TFIDF, svc_TFIDF, nb_TFIDF, rand_forest_TFIDF, xgb_TFIDF, catboost_TFIDF]\n",
    "models_name_TFIDF = ['KNN', 'Log_Regr', 'SVM', 'NB', 'Rand_forest', 'xgb', 'catboost']\n",
    "\n",
    "param_TFIDF = {'models': models_TFIDF,\n",
    "         'models_name': models_name_TFIDF,\n",
    "         'X_train': X_train_TFIDF,\n",
    "         'y_train': y_train,\n",
    "         'X_test': X_test_TFIDF,\n",
    "         'y_test': y_test}\n",
    "\n",
    "result_TFIDF = calc_score(**param_TFIDF)\n",
    "result_TFIDF"
   ]
  },
  {
   "cell_type": "code",
   "execution_count": 62,
   "metadata": {},
   "outputs": [
    {
     "name": "stderr",
     "output_type": "stream",
     "text": [
      "c:\\Users\\sebas\\anaconda3\\lib\\site-packages\\sklearn\\neighbors\\_classification.py:211: FutureWarning: Unlike other reduction functions (e.g. `skew`, `kurtosis`), the default behavior of `mode` typically preserves the axis it acts along. In SciPy 1.11.0, this behavior will change: the default value of `keepdims` will become False, the `axis` over which the statistic is taken will be eliminated, and the value None will no longer be accepted. Set `keepdims` to True or False to avoid this warning.\n",
      "  mode, _ = stats.mode(_y[neigh_ind, k], axis=1)\n",
      "c:\\Users\\sebas\\anaconda3\\lib\\site-packages\\numpy\\core\\_asarray.py:102: VisibleDeprecationWarning: Creating an ndarray from ragged nested sequences (which is a list-or-tuple of lists-or-tuples-or ndarrays with different lengths or shapes) is deprecated. If you meant to do this, you must specify 'dtype=object' when creating the ndarray.\n",
      "  return array(a, dtype, copy=False, order=order)\n"
     ]
    },
    {
     "ename": "ValueError",
     "evalue": "Expected 2D array, got 1D array instead:\narray=[array([ 0.38609001,  0.36987999, -0.64570999, ...,  0.        ,\n         0.        ,  0.        ])\n array([ 0.69809002, -0.4294    ,  0.029514  , ...,  0.        ,\n         0.        ,  0.        ])\n array([ 0.55792999,  0.10748   , -0.57490999, ...,  0.        ,\n         0.        ,  0.        ])                               ...\n array([ 0.034845,  0.072968, -0.10695 , ...,  0.      ,  0.      ,\n         0.      ])\n array([ 0.091552,  0.093336, -0.028113, ...,  0.      ,  0.      ,\n         0.      ])\n array([ 0.29028001,  0.13014001, -0.0052254 , ...,  0.        ,\n         0.        ,  0.        ])                              ].\nReshape your data either using array.reshape(-1, 1) if your data has a single feature or array.reshape(1, -1) if it contains a single sample.",
     "output_type": "error",
     "traceback": [
      "\u001b[1;31m---------------------------------------------------------------------------\u001b[0m",
      "\u001b[1;31mValueError\u001b[0m                                Traceback (most recent call last)",
      "\u001b[1;32m<ipython-input-62-74446f4d4e67>\u001b[0m in \u001b[0;36m<module>\u001b[1;34m\u001b[0m\n\u001b[0;32m      9\u001b[0m          'y_test': y_test}\n\u001b[0;32m     10\u001b[0m \u001b[1;33m\u001b[0m\u001b[0m\n\u001b[1;32m---> 11\u001b[1;33m \u001b[0mresult_glove\u001b[0m \u001b[1;33m=\u001b[0m \u001b[0mcalc_score\u001b[0m\u001b[1;33m(\u001b[0m\u001b[1;33m**\u001b[0m\u001b[0mparam_glove\u001b[0m\u001b[1;33m)\u001b[0m\u001b[1;33m\u001b[0m\u001b[1;33m\u001b[0m\u001b[0m\n\u001b[0m\u001b[0;32m     12\u001b[0m \u001b[0mresult_glove\u001b[0m\u001b[1;33m\u001b[0m\u001b[1;33m\u001b[0m\u001b[0m\n",
      "\u001b[1;32m<ipython-input-38-0c26209b551a>\u001b[0m in \u001b[0;36mcalc_score\u001b[1;34m(models, models_name, X_train, y_train, X_test, y_test)\u001b[0m\n\u001b[0;32m     14\u001b[0m \u001b[1;33m\u001b[0m\u001b[0m\n\u001b[0;32m     15\u001b[0m         \u001b[0my_predict_train\u001b[0m \u001b[1;33m=\u001b[0m \u001b[0mmodel\u001b[0m\u001b[1;33m.\u001b[0m\u001b[0mpredict\u001b[0m\u001b[1;33m(\u001b[0m\u001b[0mX_train\u001b[0m\u001b[1;33m)\u001b[0m\u001b[1;33m\u001b[0m\u001b[1;33m\u001b[0m\u001b[0m\n\u001b[1;32m---> 16\u001b[1;33m         \u001b[0my_predict_test\u001b[0m \u001b[1;33m=\u001b[0m \u001b[0mmodel\u001b[0m\u001b[1;33m.\u001b[0m\u001b[0mpredict\u001b[0m\u001b[1;33m(\u001b[0m\u001b[0mX_test\u001b[0m\u001b[1;33m)\u001b[0m\u001b[1;33m\u001b[0m\u001b[1;33m\u001b[0m\u001b[0m\n\u001b[0m\u001b[0;32m     17\u001b[0m \u001b[1;33m\u001b[0m\u001b[0m\n\u001b[0;32m     18\u001b[0m         \u001b[0mscore\u001b[0m\u001b[1;33m.\u001b[0m\u001b[0mappend\u001b[0m\u001b[1;33m(\u001b[0m\u001b[0mround\u001b[0m\u001b[1;33m(\u001b[0m\u001b[0maccuracy_score\u001b[0m\u001b[1;33m(\u001b[0m\u001b[0my_predict_train\u001b[0m\u001b[1;33m,\u001b[0m \u001b[0my_train\u001b[0m\u001b[1;33m)\u001b[0m\u001b[1;33m,\u001b[0m \u001b[1;36m3\u001b[0m\u001b[1;33m)\u001b[0m\u001b[1;33m)\u001b[0m\u001b[1;33m\u001b[0m\u001b[1;33m\u001b[0m\u001b[0m\n",
      "\u001b[1;32mc:\\Users\\sebas\\anaconda3\\lib\\site-packages\\sklearn\\neighbors\\_classification.py\u001b[0m in \u001b[0;36mpredict\u001b[1;34m(self, X)\u001b[0m\n\u001b[0;32m    193\u001b[0m             \u001b[0mClass\u001b[0m \u001b[0mlabels\u001b[0m \u001b[1;32mfor\u001b[0m \u001b[0meach\u001b[0m \u001b[0mdata\u001b[0m \u001b[0msample\u001b[0m\u001b[1;33m.\u001b[0m\u001b[1;33m\u001b[0m\u001b[1;33m\u001b[0m\u001b[0m\n\u001b[0;32m    194\u001b[0m         \"\"\"\n\u001b[1;32m--> 195\u001b[1;33m         \u001b[0mX\u001b[0m \u001b[1;33m=\u001b[0m \u001b[0mcheck_array\u001b[0m\u001b[1;33m(\u001b[0m\u001b[0mX\u001b[0m\u001b[1;33m,\u001b[0m \u001b[0maccept_sparse\u001b[0m\u001b[1;33m=\u001b[0m\u001b[1;34m'csr'\u001b[0m\u001b[1;33m)\u001b[0m\u001b[1;33m\u001b[0m\u001b[1;33m\u001b[0m\u001b[0m\n\u001b[0m\u001b[0;32m    196\u001b[0m \u001b[1;33m\u001b[0m\u001b[0m\n\u001b[0;32m    197\u001b[0m         \u001b[0mneigh_dist\u001b[0m\u001b[1;33m,\u001b[0m \u001b[0mneigh_ind\u001b[0m \u001b[1;33m=\u001b[0m \u001b[0mself\u001b[0m\u001b[1;33m.\u001b[0m\u001b[0mkneighbors\u001b[0m\u001b[1;33m(\u001b[0m\u001b[0mX\u001b[0m\u001b[1;33m)\u001b[0m\u001b[1;33m\u001b[0m\u001b[1;33m\u001b[0m\u001b[0m\n",
      "\u001b[1;32mc:\\Users\\sebas\\anaconda3\\lib\\site-packages\\sklearn\\utils\\validation.py\u001b[0m in \u001b[0;36minner_f\u001b[1;34m(*args, **kwargs)\u001b[0m\n\u001b[0;32m     61\u001b[0m             \u001b[0mextra_args\u001b[0m \u001b[1;33m=\u001b[0m \u001b[0mlen\u001b[0m\u001b[1;33m(\u001b[0m\u001b[0margs\u001b[0m\u001b[1;33m)\u001b[0m \u001b[1;33m-\u001b[0m \u001b[0mlen\u001b[0m\u001b[1;33m(\u001b[0m\u001b[0mall_args\u001b[0m\u001b[1;33m)\u001b[0m\u001b[1;33m\u001b[0m\u001b[1;33m\u001b[0m\u001b[0m\n\u001b[0;32m     62\u001b[0m             \u001b[1;32mif\u001b[0m \u001b[0mextra_args\u001b[0m \u001b[1;33m<=\u001b[0m \u001b[1;36m0\u001b[0m\u001b[1;33m:\u001b[0m\u001b[1;33m\u001b[0m\u001b[1;33m\u001b[0m\u001b[0m\n\u001b[1;32m---> 63\u001b[1;33m                 \u001b[1;32mreturn\u001b[0m \u001b[0mf\u001b[0m\u001b[1;33m(\u001b[0m\u001b[1;33m*\u001b[0m\u001b[0margs\u001b[0m\u001b[1;33m,\u001b[0m \u001b[1;33m**\u001b[0m\u001b[0mkwargs\u001b[0m\u001b[1;33m)\u001b[0m\u001b[1;33m\u001b[0m\u001b[1;33m\u001b[0m\u001b[0m\n\u001b[0m\u001b[0;32m     64\u001b[0m \u001b[1;33m\u001b[0m\u001b[0m\n\u001b[0;32m     65\u001b[0m             \u001b[1;31m# extra_args > 0\u001b[0m\u001b[1;33m\u001b[0m\u001b[1;33m\u001b[0m\u001b[1;33m\u001b[0m\u001b[0m\n",
      "\u001b[1;32mc:\\Users\\sebas\\anaconda3\\lib\\site-packages\\sklearn\\utils\\validation.py\u001b[0m in \u001b[0;36mcheck_array\u001b[1;34m(array, accept_sparse, accept_large_sparse, dtype, order, copy, force_all_finite, ensure_2d, allow_nd, ensure_min_samples, ensure_min_features, estimator)\u001b[0m\n\u001b[0;32m    635\u001b[0m             \u001b[1;31m# If input is 1D raise error\u001b[0m\u001b[1;33m\u001b[0m\u001b[1;33m\u001b[0m\u001b[1;33m\u001b[0m\u001b[0m\n\u001b[0;32m    636\u001b[0m             \u001b[1;32mif\u001b[0m \u001b[0marray\u001b[0m\u001b[1;33m.\u001b[0m\u001b[0mndim\u001b[0m \u001b[1;33m==\u001b[0m \u001b[1;36m1\u001b[0m\u001b[1;33m:\u001b[0m\u001b[1;33m\u001b[0m\u001b[1;33m\u001b[0m\u001b[0m\n\u001b[1;32m--> 637\u001b[1;33m                 raise ValueError(\n\u001b[0m\u001b[0;32m    638\u001b[0m                     \u001b[1;34m\"Expected 2D array, got 1D array instead:\\narray={}.\\n\"\u001b[0m\u001b[1;33m\u001b[0m\u001b[1;33m\u001b[0m\u001b[0m\n\u001b[0;32m    639\u001b[0m                     \u001b[1;34m\"Reshape your data either using array.reshape(-1, 1) if \"\u001b[0m\u001b[1;33m\u001b[0m\u001b[1;33m\u001b[0m\u001b[0m\n",
      "\u001b[1;31mValueError\u001b[0m: Expected 2D array, got 1D array instead:\narray=[array([ 0.38609001,  0.36987999, -0.64570999, ...,  0.        ,\n         0.        ,  0.        ])\n array([ 0.69809002, -0.4294    ,  0.029514  , ...,  0.        ,\n         0.        ,  0.        ])\n array([ 0.55792999,  0.10748   , -0.57490999, ...,  0.        ,\n         0.        ,  0.        ])                               ...\n array([ 0.034845,  0.072968, -0.10695 , ...,  0.      ,  0.      ,\n         0.      ])\n array([ 0.091552,  0.093336, -0.028113, ...,  0.      ,  0.      ,\n         0.      ])\n array([ 0.29028001,  0.13014001, -0.0052254 , ...,  0.        ,\n         0.        ,  0.        ])                              ].\nReshape your data either using array.reshape(-1, 1) if your data has a single feature or array.reshape(1, -1) if it contains a single sample."
     ]
    }
   ],
   "source": [
    "#нужно доделать (проблема в размерности X_test_glove)\n",
    "models_glove = [knn_glove, log_regr_glove, svc_glove, rand_forest_glove, xgb_glove]\n",
    "models_name_glove = ['KNN', 'Log_Regr', 'SVM', 'Rand_forest', 'xgb']\n",
    "\n",
    "param_glove = {'models': models_glove,\n",
    "         'models_name': models_name_glove,\n",
    "         'X_train': X_train_glove,\n",
    "         'y_train': y_train,\n",
    "         'X_test': X_test_glove,\n",
    "         'y_test': y_test}\n",
    "\n",
    "result_glove = calc_score(**param_glove)\n",
    "result_glove"
   ]
  },
  {
   "cell_type": "markdown",
   "metadata": {},
   "source": [
    "<h2>\"Скорринг\" тестовых данных</h2>"
   ]
  },
  {
   "cell_type": "markdown",
   "metadata": {},
   "source": [
    "В качестве классификатора была выбрана логистическая регрессия с векторизацией \"Bag of words\" по результатам сравнения целевой метрики \"ROC AUC\""
   ]
  },
  {
   "cell_type": "code",
   "execution_count": 100,
   "metadata": {},
   "outputs": [],
   "source": [
    "from sklearn import metrics\n",
    "import matplotlib.pyplot as plt\n",
    "import plotly.graph_objs as go"
   ]
  },
  {
   "cell_type": "code",
   "execution_count": 101,
   "metadata": {},
   "outputs": [
    {
     "data": {
      "application/vnd.plotly.v1+json": {
       "config": {
        "plotlyServerURL": "https://plot.ly"
       },
       "data": [
        {
         "line": {
          "color": "darkorange",
          "width": 2
         },
         "mode": "lines",
         "name": "AUC = 0.98",
         "type": "scatter",
         "x": [
          0,
          0,
          0,
          0,
          0,
          0,
          0,
          0,
          0,
          0,
          0,
          0.0002942907592701589,
          0.0002942907592701589,
          0.0002942907592701589,
          0.0002942907592701589,
          0.0005885815185403178,
          0.0005885815185403178,
          0.0005885815185403178,
          0.0005885815185403178,
          0.0005885815185403178,
          0.0005885815185403178,
          0.0005885815185403178,
          0.0005885815185403178,
          0.0005885815185403178,
          0.0005885815185403178,
          0.0008828722778104767,
          0.0008828722778104767,
          0.0008828722778104767,
          0.0008828722778104767,
          0.0011771630370806356,
          0.0011771630370806356,
          0.0011771630370806356,
          0.0011771630370806356,
          0.0011771630370806356,
          0.0011771630370806356,
          0.0011771630370806356,
          0.0011771630370806356,
          0.0014714537963507945,
          0.0014714537963507945,
          0.0017657445556209534,
          0.0017657445556209534,
          0.0020600353148911123,
          0.0020600353148911123,
          0.0020600353148911123,
          0.0020600353148911123,
          0.002354326074161271,
          0.002354326074161271,
          0.002354326074161271,
          0.002354326074161271,
          0.00264861683343143,
          0.00264861683343143,
          0.00264861683343143,
          0.003237198351971748,
          0.003237198351971748,
          0.003531489111241907,
          0.003531489111241907,
          0.0038257798705120657,
          0.0038257798705120657,
          0.004120070629782225,
          0.004120070629782225,
          0.0044143613890523835,
          0.0044143613890523835,
          0.004708652148322542,
          0.004708652148322542,
          0.005002942907592701,
          0.005002942907592701,
          0.00529723366686286,
          0.00529723366686286,
          0.005591524426133019,
          0.005591524426133019,
          0.005885815185403178,
          0.005885815185403178,
          0.006180105944673337,
          0.006180105944673337,
          0.006474396703943496,
          0.006474396703943496,
          0.006768687463213655,
          0.006768687463213655,
          0.007062978222483814,
          0.007062978222483814,
          0.007945850500294291,
          0.007945850500294291,
          0.007945850500294291,
          0.007945850500294291,
          0.00824014125956445,
          0.00824014125956445,
          0.008828722778104767,
          0.008828722778104767,
          0.009123013537374927,
          0.009123013537374927,
          0.009417304296645085,
          0.009417304296645085,
          0.009711595055915245,
          0.009711595055915245,
          0.010005885815185403,
          0.010005885815185403,
          0.01088875809299588,
          0.01088875809299588,
          0.011183048852266038,
          0.011183048852266038,
          0.011771630370806356,
          0.011771630370806356,
          0.012360211889346674,
          0.012360211889346674,
          0.012654502648616834,
          0.012654502648616834,
          0.012948793407886992,
          0.012948793407886992,
          0.013243084167157151,
          0.013243084167157151,
          0.01353737492642731,
          0.01353737492642731,
          0.01383166568569747,
          0.01383166568569747,
          0.014125956444967627,
          0.014125956444967627,
          0.014420247204237787,
          0.014420247204237787,
          0.014714537963507945,
          0.014714537963507945,
          0.015008828722778105,
          0.015008828722778105,
          0.015597410241318423,
          0.015597410241318423,
          0.015891701000588582,
          0.015891701000588582,
          0.016185991759858742,
          0.016185991759858742,
          0.0164802825191289,
          0.0164802825191289,
          0.016774573278399058,
          0.016774573278399058,
          0.017363154796939378,
          0.017363154796939378,
          0.017657445556209534,
          0.017657445556209534,
          0.017951736315479694,
          0.017951736315479694,
          0.018246027074749854,
          0.018246027074749854,
          0.01883460859329017,
          0.01883460859329017,
          0.01942319011183049,
          0.01942319011183049,
          0.01971748087110065,
          0.01971748087110065,
          0.020011771630370805,
          0.020011771630370805,
          0.020306062389640965,
          0.020306062389640965,
          0.020306062389640965,
          0.020600353148911125,
          0.020600353148911125,
          0.02118893466745144,
          0.02118893466745144,
          0.02177751618599176,
          0.022366097704532076,
          0.022366097704532076,
          0.022660388463802236,
          0.022660388463802236,
          0.023543260741612712,
          0.023543260741612712,
          0.023837551500882872,
          0.023837551500882872,
          0.02413184226015303,
          0.02413184226015303,
          0.025014714537963507,
          0.025014714537963507,
          0.025603296056503827,
          0.025603296056503827,
          0.026191877575044143,
          0.026191877575044143,
          0.026486168334314303,
          0.026486168334314303,
          0.02736904061212478,
          0.02736904061212478,
          0.02766333137139494,
          0.02766333137139494,
          0.027957622130665098,
          0.027957622130665098,
          0.028251912889935255,
          0.028251912889935255,
          0.028840494408475574,
          0.028840494408475574,
          0.02972336668628605,
          0.02972336668628605,
          0.030900529723366685,
          0.030900529723366685,
          0.031194820482636845,
          0.031194820482636845,
          0.03207769276044732,
          0.03207769276044732,
          0.032371983519717484,
          0.032371983519717484,
          0.03266627427898764,
          0.03266627427898764,
          0.0329605650382578,
          0.0329605650382578,
          0.034726309593878756,
          0.034726309593878756,
          0.036197763390229544,
          0.036197763390229544,
          0.03649205414949971,
          0.03649205414949971,
          0.036786344908769864,
          0.036786344908769864,
          0.0379635079458505,
          0.0379635079458505,
          0.04002354326074161,
          0.04002354326074161,
          0.040317834020011774,
          0.040317834020011774,
          0.041494997057092406,
          0.041494997057092406,
          0.04178928781636257,
          0.04178928781636257,
          0.04355503237198352,
          0.04355503237198352,
          0.04414361389052384,
          0.04414361389052384,
          0.04532077692760447,
          0.04532077692760447,
          0.04561506768687463,
          0.04561506768687463,
          0.04590935844614479,
          0.04590935844614479,
          0.04620364920541495,
          0.04620364920541495,
          0.04649793996468511,
          0.04649793996468511,
          0.050618010594467334,
          0.050618010594467334,
          0.05091230135373749,
          0.05091230135373749,
          0.05179517363154797,
          0.05179517363154797,
          0.052383755150088286,
          0.052383755150088286,
          0.05385520894643908,
          0.05385520894643908,
          0.0544437904649794,
          0.0544437904649794,
          0.05562095350206003,
          0.05562095350206003,
          0.055915244261330196,
          0.055915244261330196,
          0.05650382577987051,
          0.05650382577987051,
          0.05709240729841083,
          0.05709240729841083,
          0.05768098881695115,
          0.05768098881695115,
          0.06121247792819305,
          0.06121247792819305,
          0.06180105944673337,
          0.06180105944673337,
          0.062978222483814,
          0.062978222483814,
          0.06356680400235433,
          0.06415538552089464,
          0.06415538552089464,
          0.06680400235432607,
          0.06680400235432607,
          0.06886403766921718,
          0.06886403766921718,
          0.06974690994702766,
          0.06974690994702766,
          0.07033549146556799,
          0.07033549146556799,
          0.07062978222483814,
          0.07062978222483814,
          0.0709240729841083,
          0.07210123602118894,
          0.0744555620953502,
          0.0744555620953502,
          0.07563272513243084,
          0.07563272513243084,
          0.07710417892878163,
          0.07710417892878163,
          0.0773984696880518,
          0.0773984696880518,
          0.0788699234844026,
          0.0788699234844026,
          0.08004708652148322,
          0.08004708652148322,
          0.08034137728075338,
          0.08034137728075338,
          0.0809299587992937,
          0.08151854031783402,
          0.0824014125956445,
          0.0824014125956445,
          0.08534432018834609,
          0.08534432018834609,
          0.08563861094761624,
          0.08563861094761624,
          0.0859329017068864,
          0.0859329017068864,
          0.08858151854031783,
          0.08858151854031783,
          0.09123013537374926,
          0.09123013537374926,
          0.09417304296645085,
          0.09417304296645085,
          0.09476162448499117,
          0.09476162448499117,
          0.09564449676280165,
          0.09564449676280165,
          0.09682165979988229,
          0.09682165979988229,
          0.09711595055915244,
          0.09711595055915244,
          0.1003531489111242,
          0.1003531489111242,
          0.10329605650382578,
          0.10329605650382578,
          0.10800470865214833,
          0.10800470865214833,
          0.10947616244849911,
          0.10947616244849911,
          0.11006474396703944,
          0.11006474396703944,
          0.11212477928193054,
          0.11300765155974102,
          0.11653914067098294,
          0.11653914067098294,
          0.11801059446733372,
          0.11801059446733372,
          0.125956444967628,
          0.125956444967628,
          0.1288993525603296,
          0.12948793407886994,
          0.13272513243084166,
          0.13272513243084166,
          0.13360800470865214,
          0.13360800470865214,
          0.13390229546792232,
          0.13390229546792232,
          0.13713949381989404,
          0.13713949381989404,
          0.14125956444967627,
          0.14125956444967627,
          0.14449676280164803,
          0.14449676280164803,
          0.14861683343143026,
          0.14861683343143026,
          0.1547969393761036,
          0.1547969393761036,
          0.15656268393172454,
          0.15656268393172454,
          0.1583284284873455,
          0.1583284284873455,
          0.1698057680988817,
          0.1698057680988817,
          0.17863449087698646,
          0.17863449087698646,
          0.18216597998822837,
          0.18216597998822837,
          0.19011183048852265,
          0.19011183048852265,
          0.19776339022954678,
          0.19776339022954678,
          0.1998234255444379,
          0.1998234255444379,
          0.21453796350794585,
          0.21453796350794585,
          0.21748087110064743,
          0.21748087110064743,
          0.22424955856386108,
          0.22424955856386108,
          0.22954679223072397,
          0.23837551500882873,
          0.24190700412007063,
          0.24190700412007063,
          0.25250147145379637,
          0.25250147145379637,
          0.2586815773984697,
          0.2586815773984697,
          0.2630959387875221,
          0.2630959387875221,
          0.26809888169511475,
          0.2686874632136551,
          0.27045320776927606,
          0.27104178928781636,
          0.2763390229546792,
          0.2763390229546792,
          0.28045909358446147,
          0.28045909358446147,
          0.2807533843437316,
          0.2807533843437316,
          0.2822248381400824,
          0.2822248381400824,
          0.2878163625662154,
          0.2886992348440259,
          0.2942907592701589,
          0.2942907592701589,
          0.3090052972336669,
          0.3095938787522072,
          0.3316656856974691,
          0.3316656856974691,
          0.33519717480871103,
          0.33519717480871103,
          0.33549146556798115,
          0.3360800470865215,
          0.34226015303119484,
          0.34226015303119484,
          0.3452030606238964,
          0.34579164214243674,
          0.3472630959387875,
          0.3472630959387875,
          0.3566804002354326,
          0.3572689817539729,
          0.361094761624485,
          0.361094761624485,
          0.3646262507357269,
          0.3646262507357269,
          0.3816951147733961,
          0.3816951147733961,
          0.38463802236609773,
          0.38522660388463803,
          0.4214243672748676,
          0.4214243672748676,
          0.42289582107121837,
          0.42348440258975867,
          0.4384932313125368,
          0.4384932313125368,
          0.44496762801648027,
          0.44496762801648027,
          0.47292525014714537,
          0.4735138316656857,
          0.4735138316656857,
          0.47380812242495585,
          0.47380812242495585,
          0.4829311359623308,
          0.4829311359623308,
          0.5550323719835197,
          0.5550323719835197,
          0.6171277221895233,
          0.6171277221895233,
          0.6709829311359623,
          0.6709829311359623,
          0.6954090641553855,
          0.6954090641553855,
          0.7004120070629782,
          0.7004120070629782,
          0.7348440258975868,
          0.7348440258975868,
          0.7492642731018246,
          0.7498528546203649,
          0.757504414361389,
          0.757504414361389,
          0.7607416127133608,
          0.7619187757504414,
          0.8502060035314891,
          0.8502060035314891,
          0.8790464979399647,
          0.879635079458505,
          0.9152442613301942,
          0.9158328428487346,
          0.9682165979988229,
          0.9688051795173631,
          1
         ],
         "y": [
          0,
          0.03114421123899797,
          0.03182125930941097,
          0.03317535545023697,
          0.03656059580230196,
          0.037914691943127965,
          0.04536222071767095,
          0.046716316858496955,
          0.04807041299932295,
          0.04942450914014895,
          0.05890318212593094,
          0.05890318212593094,
          0.06296547054840894,
          0.06431956668923494,
          0.1029113067027759,
          0.1029113067027759,
          0.16113744075829384,
          0.16249153689911983,
          0.18618821936357483,
          0.18754231550440081,
          0.1943127962085308,
          0.1956668923493568,
          0.24238320920785375,
          0.24373730534867977,
          0.25118483412322273,
          0.25118483412322273,
          0.4143534190927556,
          0.41570751523358157,
          0.43060257278266756,
          0.43060257278266756,
          0.4333107650643196,
          0.43601895734597157,
          0.4854434664861205,
          0.4867975626269465,
          0.4881516587677725,
          0.4915368991198375,
          0.4942450914014895,
          0.4942450914014895,
          0.5104942450914015,
          0.5104942450914015,
          0.5240352064996615,
          0.5240352064996615,
          0.5308056872037915,
          0.5321597833446174,
          0.5626269465132024,
          0.5626269465132024,
          0.5856465809072444,
          0.5870006770480705,
          0.6134055517941774,
          0.6134055517941774,
          0.6147596479350034,
          0.6201760324983073,
          0.6201760324983073,
          0.6222071767095464,
          0.6222071767095464,
          0.6540284360189573,
          0.6540284360189573,
          0.6560595802301964,
          0.6560595802301964,
          0.6675693974272173,
          0.6675693974272173,
          0.6980365605958023,
          0.6980365605958023,
          0.7000677048070413,
          0.7000677048070413,
          0.7048070412999323,
          0.7048070412999323,
          0.7122545700744752,
          0.7122545700744752,
          0.7136086662153013,
          0.7136086662153013,
          0.7298578199052133,
          0.7298578199052133,
          0.7373053486797563,
          0.7373053486797563,
          0.7467840216655383,
          0.7467840216655383,
          0.7528774542992552,
          0.7528774542992552,
          0.7610020311442113,
          0.7610020311442113,
          0.7711577522004063,
          0.7725118483412322,
          0.7833446174678402,
          0.7833446174678402,
          0.7874069058903183,
          0.7874069058903183,
          0.7887610020311442,
          0.7887610020311442,
          0.7894380501015572,
          0.7894380501015572,
          0.7982396750169262,
          0.7982396750169262,
          0.8077183480027081,
          0.8077183480027081,
          0.8104265402843602,
          0.8104265402843602,
          0.8117806364251862,
          0.8117806364251862,
          0.8138117806364252,
          0.8138117806364252,
          0.8158429248476642,
          0.8158429248476642,
          0.8178740690589031,
          0.8178740690589031,
          0.8199052132701422,
          0.8199052132701422,
          0.8212593094109681,
          0.8212593094109681,
          0.8219363574813812,
          0.8219363574813812,
          0.8232904536222072,
          0.8232904536222072,
          0.8246445497630331,
          0.8246445497630331,
          0.8266756939742722,
          0.8266756939742722,
          0.8293838862559242,
          0.8293838862559242,
          0.8354773188896412,
          0.8354773188896412,
          0.8361543669600542,
          0.8361543669600542,
          0.8408937034529451,
          0.8408937034529451,
          0.8422477995937712,
          0.8422477995937712,
          0.8483412322274881,
          0.8483412322274881,
          0.8490182802979012,
          0.8490182802979012,
          0.8551117129316181,
          0.8551117129316181,
          0.8557887610020312,
          0.8557887610020312,
          0.8578199052132701,
          0.8578199052132701,
          0.8584969532836831,
          0.8584969532836831,
          0.8598510494245092,
          0.8598510494245092,
          0.8618821936357481,
          0.8618821936357481,
          0.8632362897765742,
          0.8632362897765742,
          0.8652674339878131,
          0.8652674339878131,
          0.8666215301286392,
          0.8666215301286392,
          0.8679756262694651,
          0.8700067704807042,
          0.8700067704807042,
          0.8713608666215301,
          0.8713608666215301,
          0.8761002031144212,
          0.8794854434664862,
          0.8794854434664862,
          0.8808395396073121,
          0.8808395396073121,
          0.8815165876777251,
          0.8815165876777251,
          0.8869329722410291,
          0.8869329722410291,
          0.8882870683818551,
          0.8882870683818551,
          0.8903182125930941,
          0.8903182125930941,
          0.8909952606635071,
          0.8909952606635071,
          0.8916723087339201,
          0.8916723087339201,
          0.8923493568043331,
          0.8923493568043331,
          0.8930264048747462,
          0.8930264048747462,
          0.8943805010155721,
          0.8943805010155721,
          0.8950575490859851,
          0.8950575490859851,
          0.8957345971563981,
          0.8957345971563981,
          0.8977657413676371,
          0.8977657413676371,
          0.8984427894380501,
          0.8984427894380501,
          0.8991198375084631,
          0.8991198375084631,
          0.9025050778605281,
          0.9025050778605281,
          0.9058903182125931,
          0.9058903182125931,
          0.9079214624238321,
          0.9079214624238321,
          0.9085985104942451,
          0.9085985104942451,
          0.9106296547054841,
          0.9106296547054841,
          0.9119837508463101,
          0.9119837508463101,
          0.9126607989167231,
          0.9126607989167231,
          0.913337846987136,
          0.913337846987136,
          0.9140148950575491,
          0.9140148950575491,
          0.9146919431279621,
          0.9146919431279621,
          0.9160460392687881,
          0.9160460392687881,
          0.9180771834800271,
          0.9180771834800271,
          0.9187542315504401,
          0.9187542315504401,
          0.919431279620853,
          0.919431279620853,
          0.920108327691266,
          0.920108327691266,
          0.9207853757616791,
          0.9207853757616791,
          0.9221394719025051,
          0.9221394719025051,
          0.922816519972918,
          0.922816519972918,
          0.923493568043331,
          0.923493568043331,
          0.9241706161137441,
          0.9241706161137441,
          0.9248476641841571,
          0.9248476641841571,
          0.926201760324983,
          0.926201760324983,
          0.9275558564658091,
          0.9275558564658091,
          0.9289099526066351,
          0.9289099526066351,
          0.930264048747461,
          0.930264048747461,
          0.9309410968178741,
          0.9309410968178741,
          0.9316181448882871,
          0.9316181448882871,
          0.9322951929587001,
          0.9322951929587001,
          0.932972241029113,
          0.932972241029113,
          0.9343263371699391,
          0.9343263371699391,
          0.9350033852403521,
          0.9350033852403521,
          0.9356804333107651,
          0.9356804333107651,
          0.936357481381178,
          0.936357481381178,
          0.937034529451591,
          0.937034529451591,
          0.9383886255924171,
          0.9383886255924171,
          0.9390656736628301,
          0.9390656736628301,
          0.9390656736628301,
          0.940419769803656,
          0.940419769803656,
          0.9417738659444821,
          0.9417738659444821,
          0.942450914014895,
          0.942450914014895,
          0.943127962085308,
          0.943127962085308,
          0.943805010155721,
          0.943805010155721,
          0.9444820582261341,
          0.9444820582261341,
          0.9444820582261341,
          0.9444820582261341,
          0.9451591062965471,
          0.9451591062965471,
          0.94583615436696,
          0.94583615436696,
          0.947190250507786,
          0.947190250507786,
          0.9478672985781991,
          0.9478672985781991,
          0.9485443466486121,
          0.9485443466486121,
          0.949221394719025,
          0.949221394719025,
          0.949898442789438,
          0.949898442789438,
          0.949898442789438,
          0.949898442789438,
          0.950575490859851,
          0.950575490859851,
          0.95260663507109,
          0.95260663507109,
          0.953283683141503,
          0.953283683141503,
          0.953960731211916,
          0.953960731211916,
          0.9546377792823291,
          0.9546377792823291,
          0.9553148273527421,
          0.9553148273527421,
          0.955991875423155,
          0.955991875423155,
          0.956668923493568,
          0.956668923493568,
          0.957345971563981,
          0.957345971563981,
          0.9580230196343941,
          0.9580230196343941,
          0.9587000677048071,
          0.9587000677048071,
          0.95937711577522,
          0.95937711577522,
          0.960054163845633,
          0.960054163845633,
          0.960731211916046,
          0.960731211916046,
          0.9614082599864591,
          0.9614082599864591,
          0.9620853080568721,
          0.9620853080568721,
          0.9620853080568721,
          0.9620853080568721,
          0.962762356127285,
          0.962762356127285,
          0.963439404197698,
          0.963439404197698,
          0.964116452268111,
          0.964116452268111,
          0.964116452268111,
          0.964116452268111,
          0.9647935003385241,
          0.9647935003385241,
          0.965470548408937,
          0.965470548408937,
          0.96614759647935,
          0.96614759647935,
          0.967501692620176,
          0.967501692620176,
          0.9681787406905891,
          0.9681787406905891,
          0.968855788761002,
          0.968855788761002,
          0.969532836831415,
          0.969532836831415,
          0.970886932972241,
          0.970886932972241,
          0.9715639810426541,
          0.9715639810426541,
          0.97291807718348,
          0.97291807718348,
          0.973595125253893,
          0.973595125253893,
          0.974272173324306,
          0.974272173324306,
          0.9749492213947191,
          0.9749492213947191,
          0.975626269465132,
          0.975626269465132,
          0.976303317535545,
          0.976303317535545,
          0.976980365605958,
          0.976980365605958,
          0.977657413676371,
          0.977657413676371,
          0.9783344617467841,
          0.9783344617467841,
          0.979011509817197,
          0.979011509817197,
          0.97968855788761,
          0.97968855788761,
          0.980365605958023,
          0.980365605958023,
          0.981042654028436,
          0.981042654028436,
          0.9817197020988491,
          0.9817197020988491,
          0.982396750169262,
          0.982396750169262,
          0.982396750169262,
          0.982396750169262,
          0.982396750169262,
          0.982396750169262,
          0.983073798239675,
          0.983073798239675,
          0.983750846310088,
          0.983750846310088,
          0.984427894380501,
          0.984427894380501,
          0.9851049424509141,
          0.9851049424509141,
          0.9851049424509141,
          0.9851049424509141,
          0.985781990521327,
          0.985781990521327,
          0.985781990521327,
          0.985781990521327,
          0.98645903859174,
          0.98645903859174,
          0.987136086662153,
          0.987136086662153,
          0.987136086662153,
          0.987136086662153,
          0.987813134732566,
          0.987813134732566,
          0.987813134732566,
          0.987813134732566,
          0.988490182802979,
          0.988490182802979,
          0.988490182802979,
          0.988490182802979,
          0.989167230873392,
          0.989167230873392,
          0.989844278943805,
          0.989844278943805,
          0.990521327014218,
          0.990521327014218,
          0.990521327014218,
          0.990521327014218,
          0.991198375084631,
          0.991198375084631,
          0.991198375084631,
          0.991198375084631,
          0.991875423155044,
          0.991875423155044,
          0.992552471225457,
          0.992552471225457,
          0.992552471225457,
          0.99322951929587,
          0.99322951929587,
          0.993906567366283,
          0.993906567366283,
          0.994583615436696,
          0.994583615436696,
          0.995260663507109,
          0.995260663507109,
          0.995937711577522,
          0.995937711577522,
          0.996614759647935,
          0.996614759647935,
          0.997291807718348,
          0.997291807718348,
          0.997968855788761,
          0.997968855788761,
          0.998645903859174,
          0.998645903859174,
          0.998645903859174,
          0.998645903859174,
          0.999322951929587,
          0.999322951929587,
          0.999322951929587,
          0.999322951929587,
          1,
          1,
          1,
          1,
          1,
          1,
          1,
          1
         ]
        },
        {
         "line": {
          "color": "navy",
          "dash": "dash",
          "width": 2
         },
         "mode": "lines",
         "name": "Reference Line",
         "type": "scatter",
         "x": [
          0,
          1
         ],
         "y": [
          0,
          1
         ]
        }
       ],
       "layout": {
        "template": {
         "data": {
          "bar": [
           {
            "error_x": {
             "color": "#2a3f5f"
            },
            "error_y": {
             "color": "#2a3f5f"
            },
            "marker": {
             "line": {
              "color": "#E5ECF6",
              "width": 0.5
             },
             "pattern": {
              "fillmode": "overlay",
              "size": 10,
              "solidity": 0.2
             }
            },
            "type": "bar"
           }
          ],
          "barpolar": [
           {
            "marker": {
             "line": {
              "color": "#E5ECF6",
              "width": 0.5
             },
             "pattern": {
              "fillmode": "overlay",
              "size": 10,
              "solidity": 0.2
             }
            },
            "type": "barpolar"
           }
          ],
          "carpet": [
           {
            "aaxis": {
             "endlinecolor": "#2a3f5f",
             "gridcolor": "white",
             "linecolor": "white",
             "minorgridcolor": "white",
             "startlinecolor": "#2a3f5f"
            },
            "baxis": {
             "endlinecolor": "#2a3f5f",
             "gridcolor": "white",
             "linecolor": "white",
             "minorgridcolor": "white",
             "startlinecolor": "#2a3f5f"
            },
            "type": "carpet"
           }
          ],
          "choropleth": [
           {
            "colorbar": {
             "outlinewidth": 0,
             "ticks": ""
            },
            "type": "choropleth"
           }
          ],
          "contour": [
           {
            "colorbar": {
             "outlinewidth": 0,
             "ticks": ""
            },
            "colorscale": [
             [
              0,
              "#0d0887"
             ],
             [
              0.1111111111111111,
              "#46039f"
             ],
             [
              0.2222222222222222,
              "#7201a8"
             ],
             [
              0.3333333333333333,
              "#9c179e"
             ],
             [
              0.4444444444444444,
              "#bd3786"
             ],
             [
              0.5555555555555556,
              "#d8576b"
             ],
             [
              0.6666666666666666,
              "#ed7953"
             ],
             [
              0.7777777777777778,
              "#fb9f3a"
             ],
             [
              0.8888888888888888,
              "#fdca26"
             ],
             [
              1,
              "#f0f921"
             ]
            ],
            "type": "contour"
           }
          ],
          "contourcarpet": [
           {
            "colorbar": {
             "outlinewidth": 0,
             "ticks": ""
            },
            "type": "contourcarpet"
           }
          ],
          "heatmap": [
           {
            "colorbar": {
             "outlinewidth": 0,
             "ticks": ""
            },
            "colorscale": [
             [
              0,
              "#0d0887"
             ],
             [
              0.1111111111111111,
              "#46039f"
             ],
             [
              0.2222222222222222,
              "#7201a8"
             ],
             [
              0.3333333333333333,
              "#9c179e"
             ],
             [
              0.4444444444444444,
              "#bd3786"
             ],
             [
              0.5555555555555556,
              "#d8576b"
             ],
             [
              0.6666666666666666,
              "#ed7953"
             ],
             [
              0.7777777777777778,
              "#fb9f3a"
             ],
             [
              0.8888888888888888,
              "#fdca26"
             ],
             [
              1,
              "#f0f921"
             ]
            ],
            "type": "heatmap"
           }
          ],
          "heatmapgl": [
           {
            "colorbar": {
             "outlinewidth": 0,
             "ticks": ""
            },
            "colorscale": [
             [
              0,
              "#0d0887"
             ],
             [
              0.1111111111111111,
              "#46039f"
             ],
             [
              0.2222222222222222,
              "#7201a8"
             ],
             [
              0.3333333333333333,
              "#9c179e"
             ],
             [
              0.4444444444444444,
              "#bd3786"
             ],
             [
              0.5555555555555556,
              "#d8576b"
             ],
             [
              0.6666666666666666,
              "#ed7953"
             ],
             [
              0.7777777777777778,
              "#fb9f3a"
             ],
             [
              0.8888888888888888,
              "#fdca26"
             ],
             [
              1,
              "#f0f921"
             ]
            ],
            "type": "heatmapgl"
           }
          ],
          "histogram": [
           {
            "marker": {
             "pattern": {
              "fillmode": "overlay",
              "size": 10,
              "solidity": 0.2
             }
            },
            "type": "histogram"
           }
          ],
          "histogram2d": [
           {
            "colorbar": {
             "outlinewidth": 0,
             "ticks": ""
            },
            "colorscale": [
             [
              0,
              "#0d0887"
             ],
             [
              0.1111111111111111,
              "#46039f"
             ],
             [
              0.2222222222222222,
              "#7201a8"
             ],
             [
              0.3333333333333333,
              "#9c179e"
             ],
             [
              0.4444444444444444,
              "#bd3786"
             ],
             [
              0.5555555555555556,
              "#d8576b"
             ],
             [
              0.6666666666666666,
              "#ed7953"
             ],
             [
              0.7777777777777778,
              "#fb9f3a"
             ],
             [
              0.8888888888888888,
              "#fdca26"
             ],
             [
              1,
              "#f0f921"
             ]
            ],
            "type": "histogram2d"
           }
          ],
          "histogram2dcontour": [
           {
            "colorbar": {
             "outlinewidth": 0,
             "ticks": ""
            },
            "colorscale": [
             [
              0,
              "#0d0887"
             ],
             [
              0.1111111111111111,
              "#46039f"
             ],
             [
              0.2222222222222222,
              "#7201a8"
             ],
             [
              0.3333333333333333,
              "#9c179e"
             ],
             [
              0.4444444444444444,
              "#bd3786"
             ],
             [
              0.5555555555555556,
              "#d8576b"
             ],
             [
              0.6666666666666666,
              "#ed7953"
             ],
             [
              0.7777777777777778,
              "#fb9f3a"
             ],
             [
              0.8888888888888888,
              "#fdca26"
             ],
             [
              1,
              "#f0f921"
             ]
            ],
            "type": "histogram2dcontour"
           }
          ],
          "mesh3d": [
           {
            "colorbar": {
             "outlinewidth": 0,
             "ticks": ""
            },
            "type": "mesh3d"
           }
          ],
          "parcoords": [
           {
            "line": {
             "colorbar": {
              "outlinewidth": 0,
              "ticks": ""
             }
            },
            "type": "parcoords"
           }
          ],
          "pie": [
           {
            "automargin": true,
            "type": "pie"
           }
          ],
          "scatter": [
           {
            "fillpattern": {
             "fillmode": "overlay",
             "size": 10,
             "solidity": 0.2
            },
            "type": "scatter"
           }
          ],
          "scatter3d": [
           {
            "line": {
             "colorbar": {
              "outlinewidth": 0,
              "ticks": ""
             }
            },
            "marker": {
             "colorbar": {
              "outlinewidth": 0,
              "ticks": ""
             }
            },
            "type": "scatter3d"
           }
          ],
          "scattercarpet": [
           {
            "marker": {
             "colorbar": {
              "outlinewidth": 0,
              "ticks": ""
             }
            },
            "type": "scattercarpet"
           }
          ],
          "scattergeo": [
           {
            "marker": {
             "colorbar": {
              "outlinewidth": 0,
              "ticks": ""
             }
            },
            "type": "scattergeo"
           }
          ],
          "scattergl": [
           {
            "marker": {
             "colorbar": {
              "outlinewidth": 0,
              "ticks": ""
             }
            },
            "type": "scattergl"
           }
          ],
          "scattermapbox": [
           {
            "marker": {
             "colorbar": {
              "outlinewidth": 0,
              "ticks": ""
             }
            },
            "type": "scattermapbox"
           }
          ],
          "scatterpolar": [
           {
            "marker": {
             "colorbar": {
              "outlinewidth": 0,
              "ticks": ""
             }
            },
            "type": "scatterpolar"
           }
          ],
          "scatterpolargl": [
           {
            "marker": {
             "colorbar": {
              "outlinewidth": 0,
              "ticks": ""
             }
            },
            "type": "scatterpolargl"
           }
          ],
          "scatterternary": [
           {
            "marker": {
             "colorbar": {
              "outlinewidth": 0,
              "ticks": ""
             }
            },
            "type": "scatterternary"
           }
          ],
          "surface": [
           {
            "colorbar": {
             "outlinewidth": 0,
             "ticks": ""
            },
            "colorscale": [
             [
              0,
              "#0d0887"
             ],
             [
              0.1111111111111111,
              "#46039f"
             ],
             [
              0.2222222222222222,
              "#7201a8"
             ],
             [
              0.3333333333333333,
              "#9c179e"
             ],
             [
              0.4444444444444444,
              "#bd3786"
             ],
             [
              0.5555555555555556,
              "#d8576b"
             ],
             [
              0.6666666666666666,
              "#ed7953"
             ],
             [
              0.7777777777777778,
              "#fb9f3a"
             ],
             [
              0.8888888888888888,
              "#fdca26"
             ],
             [
              1,
              "#f0f921"
             ]
            ],
            "type": "surface"
           }
          ],
          "table": [
           {
            "cells": {
             "fill": {
              "color": "#EBF0F8"
             },
             "line": {
              "color": "white"
             }
            },
            "header": {
             "fill": {
              "color": "#C8D4E3"
             },
             "line": {
              "color": "white"
             }
            },
            "type": "table"
           }
          ]
         },
         "layout": {
          "annotationdefaults": {
           "arrowcolor": "#2a3f5f",
           "arrowhead": 0,
           "arrowwidth": 1
          },
          "autotypenumbers": "strict",
          "coloraxis": {
           "colorbar": {
            "outlinewidth": 0,
            "ticks": ""
           }
          },
          "colorscale": {
           "diverging": [
            [
             0,
             "#8e0152"
            ],
            [
             0.1,
             "#c51b7d"
            ],
            [
             0.2,
             "#de77ae"
            ],
            [
             0.3,
             "#f1b6da"
            ],
            [
             0.4,
             "#fde0ef"
            ],
            [
             0.5,
             "#f7f7f7"
            ],
            [
             0.6,
             "#e6f5d0"
            ],
            [
             0.7,
             "#b8e186"
            ],
            [
             0.8,
             "#7fbc41"
            ],
            [
             0.9,
             "#4d9221"
            ],
            [
             1,
             "#276419"
            ]
           ],
           "sequential": [
            [
             0,
             "#0d0887"
            ],
            [
             0.1111111111111111,
             "#46039f"
            ],
            [
             0.2222222222222222,
             "#7201a8"
            ],
            [
             0.3333333333333333,
             "#9c179e"
            ],
            [
             0.4444444444444444,
             "#bd3786"
            ],
            [
             0.5555555555555556,
             "#d8576b"
            ],
            [
             0.6666666666666666,
             "#ed7953"
            ],
            [
             0.7777777777777778,
             "#fb9f3a"
            ],
            [
             0.8888888888888888,
             "#fdca26"
            ],
            [
             1,
             "#f0f921"
            ]
           ],
           "sequentialminus": [
            [
             0,
             "#0d0887"
            ],
            [
             0.1111111111111111,
             "#46039f"
            ],
            [
             0.2222222222222222,
             "#7201a8"
            ],
            [
             0.3333333333333333,
             "#9c179e"
            ],
            [
             0.4444444444444444,
             "#bd3786"
            ],
            [
             0.5555555555555556,
             "#d8576b"
            ],
            [
             0.6666666666666666,
             "#ed7953"
            ],
            [
             0.7777777777777778,
             "#fb9f3a"
            ],
            [
             0.8888888888888888,
             "#fdca26"
            ],
            [
             1,
             "#f0f921"
            ]
           ]
          },
          "colorway": [
           "#636efa",
           "#EF553B",
           "#00cc96",
           "#ab63fa",
           "#FFA15A",
           "#19d3f3",
           "#FF6692",
           "#B6E880",
           "#FF97FF",
           "#FECB52"
          ],
          "font": {
           "color": "#2a3f5f"
          },
          "geo": {
           "bgcolor": "white",
           "lakecolor": "white",
           "landcolor": "#E5ECF6",
           "showlakes": true,
           "showland": true,
           "subunitcolor": "white"
          },
          "hoverlabel": {
           "align": "left"
          },
          "hovermode": "closest",
          "mapbox": {
           "style": "light"
          },
          "paper_bgcolor": "white",
          "plot_bgcolor": "#E5ECF6",
          "polar": {
           "angularaxis": {
            "gridcolor": "white",
            "linecolor": "white",
            "ticks": ""
           },
           "bgcolor": "#E5ECF6",
           "radialaxis": {
            "gridcolor": "white",
            "linecolor": "white",
            "ticks": ""
           }
          },
          "scene": {
           "xaxis": {
            "backgroundcolor": "#E5ECF6",
            "gridcolor": "white",
            "gridwidth": 2,
            "linecolor": "white",
            "showbackground": true,
            "ticks": "",
            "zerolinecolor": "white"
           },
           "yaxis": {
            "backgroundcolor": "#E5ECF6",
            "gridcolor": "white",
            "gridwidth": 2,
            "linecolor": "white",
            "showbackground": true,
            "ticks": "",
            "zerolinecolor": "white"
           },
           "zaxis": {
            "backgroundcolor": "#E5ECF6",
            "gridcolor": "white",
            "gridwidth": 2,
            "linecolor": "white",
            "showbackground": true,
            "ticks": "",
            "zerolinecolor": "white"
           }
          },
          "shapedefaults": {
           "line": {
            "color": "#2a3f5f"
           }
          },
          "ternary": {
           "aaxis": {
            "gridcolor": "white",
            "linecolor": "white",
            "ticks": ""
           },
           "baxis": {
            "gridcolor": "white",
            "linecolor": "white",
            "ticks": ""
           },
           "bgcolor": "#E5ECF6",
           "caxis": {
            "gridcolor": "white",
            "linecolor": "white",
            "ticks": ""
           }
          },
          "title": {
           "x": 0.05
          },
          "xaxis": {
           "automargin": true,
           "gridcolor": "white",
           "linecolor": "white",
           "ticks": "",
           "title": {
            "standoff": 15
           },
           "zerolinecolor": "white",
           "zerolinewidth": 2
          },
          "yaxis": {
           "automargin": true,
           "gridcolor": "white",
           "linecolor": "white",
           "ticks": "",
           "title": {
            "standoff": 15
           },
           "zerolinecolor": "white",
           "zerolinewidth": 2
          }
         }
        },
        "title": {
         "text": "Interactive ROC Curve"
        },
        "xaxis": {
         "title": {
          "text": "False Positive Rate"
         }
        },
        "yaxis": {
         "title": {
          "text": "True Positive Rate"
         }
        }
       }
      }
     },
     "metadata": {},
     "output_type": "display_data"
    }
   ],
   "source": [
    "y_pred_proba = log_regr.predict_proba(X_test_BOW)[:,1]\n",
    "fpr, tpr, _ = metrics.roc_curve(y_test,  y_pred_proba)\n",
    "auc = metrics.roc_auc_score(y_test, y_pred_proba)\n",
    "\n",
    "trace = go.Scatter(x=fpr, y=tpr, mode='lines', name='AUC = %0.2f' % auc,\n",
    "                   line=dict(color='darkorange', width=2))\n",
    "reference_line = go.Scatter(x=[0,1], y=[0,1], mode='lines', name='Reference Line',\n",
    "                            line=dict(color='navy', width=2, dash='dash'))\n",
    "fig = go.Figure(data=[trace, reference_line])\n",
    "fig.update_layout(title='Interactive ROC Curve',\n",
    "                  xaxis_title='False Positive Rate',\n",
    "                  yaxis_title='True Positive Rate')\n",
    "fig.show()"
   ]
  },
  {
   "cell_type": "code",
   "execution_count": 87,
   "metadata": {},
   "outputs": [
    {
     "data": {
      "text/html": [
       "<div>\n",
       "<style scoped>\n",
       "    .dataframe tbody tr th:only-of-type {\n",
       "        vertical-align: middle;\n",
       "    }\n",
       "\n",
       "    .dataframe tbody tr th {\n",
       "        vertical-align: top;\n",
       "    }\n",
       "\n",
       "    .dataframe thead th {\n",
       "        text-align: right;\n",
       "    }\n",
       "</style>\n",
       "<table border=\"1\" class=\"dataframe\">\n",
       "  <thead>\n",
       "    <tr style=\"text-align: right;\">\n",
       "      <th></th>\n",
       "      <th>text</th>\n",
       "    </tr>\n",
       "  </thead>\n",
       "  <tbody>\n",
       "    <tr>\n",
       "      <th>0</th>\n",
       "      <td>j jim whitehead ejw cse ucsc edu writes j you ...</td>\n",
       "    </tr>\n",
       "    <tr>\n",
       "      <th>1</th>\n",
       "      <td>original message from bitbitch magnesium net p...</td>\n",
       "    </tr>\n",
       "    <tr>\n",
       "      <th>2</th>\n",
       "      <td>java for managers vince durasoft who just taug...</td>\n",
       "    </tr>\n",
       "    <tr>\n",
       "      <th>3</th>\n",
       "      <td>there is a youtuber name saiman says</td>\n",
       "    </tr>\n",
       "    <tr>\n",
       "      <th>4</th>\n",
       "      <td>underpriced issue with high return on equity t...</td>\n",
       "    </tr>\n",
       "  </tbody>\n",
       "</table>\n",
       "</div>"
      ],
      "text/plain": [
       "                                                text\n",
       "0  j jim whitehead ejw cse ucsc edu writes j you ...\n",
       "1  original message from bitbitch magnesium net p...\n",
       "2  java for managers vince durasoft who just taug...\n",
       "3               there is a youtuber name saiman says\n",
       "4  underpriced issue with high return on equity t..."
      ]
     },
     "execution_count": 87,
     "metadata": {},
     "output_type": "execute_result"
    }
   ],
   "source": [
    "df_test = pd.read_csv('test_spam.csv')\n",
    "df_test.head()"
   ]
  },
  {
   "cell_type": "code",
   "execution_count": 88,
   "metadata": {},
   "outputs": [
    {
     "name": "stdout",
     "output_type": "stream",
     "text": [
      "sample size: 16278\n"
     ]
    }
   ],
   "source": [
    "print(f\"sample size: {df.shape[0]}\")"
   ]
  },
  {
   "cell_type": "code",
   "execution_count": 85,
   "metadata": {},
   "outputs": [
    {
     "data": {
      "text/html": [
       "<div>\n",
       "<style scoped>\n",
       "    .dataframe tbody tr th:only-of-type {\n",
       "        vertical-align: middle;\n",
       "    }\n",
       "\n",
       "    .dataframe tbody tr th {\n",
       "        vertical-align: top;\n",
       "    }\n",
       "\n",
       "    .dataframe thead th {\n",
       "        text-align: right;\n",
       "    }\n",
       "</style>\n",
       "<table border=\"1\" class=\"dataframe\">\n",
       "  <thead>\n",
       "    <tr style=\"text-align: right;\">\n",
       "      <th></th>\n",
       "      <th>text</th>\n",
       "    </tr>\n",
       "  </thead>\n",
       "  <tbody>\n",
       "    <tr>\n",
       "      <th>0</th>\n",
       "      <td>j jim whitehead ejw cse ucsc edu writes j open...</td>\n",
       "    </tr>\n",
       "    <tr>\n",
       "      <th>1</th>\n",
       "      <td>original message bitbitch magnesium net people...</td>\n",
       "    </tr>\n",
       "    <tr>\n",
       "      <th>2</th>\n",
       "      <td>java manager vince durasoft taught java class ...</td>\n",
       "    </tr>\n",
       "    <tr>\n",
       "      <th>3</th>\n",
       "      <td>youtuber name saiman say</td>\n",
       "    </tr>\n",
       "    <tr>\n",
       "      <th>4</th>\n",
       "      <td>underpriced issue high return equity oil gas a...</td>\n",
       "    </tr>\n",
       "  </tbody>\n",
       "</table>\n",
       "</div>"
      ],
      "text/plain": [
       "                                                text\n",
       "0  j jim whitehead ejw cse ucsc edu writes j open...\n",
       "1  original message bitbitch magnesium net people...\n",
       "2  java manager vince durasoft taught java class ...\n",
       "3                           youtuber name saiman say\n",
       "4  underpriced issue high return equity oil gas a..."
      ]
     },
     "execution_count": 85,
     "metadata": {},
     "output_type": "execute_result"
    }
   ],
   "source": [
    "df_test2 = df_test.copy()\n",
    "df_test2['text'] = df_test2['text'].apply(df_preprocess)\n",
    "df_test2.head()"
   ]
  },
  {
   "cell_type": "code",
   "execution_count": 86,
   "metadata": {},
   "outputs": [
    {
     "name": "stdout",
     "output_type": "stream",
     "text": [
      "ill let know kick\n"
     ]
    }
   ],
   "source": [
    "X = df_test2['text'].to_numpy()\n",
    "print(X[100])"
   ]
  },
  {
   "cell_type": "code",
   "execution_count": 89,
   "metadata": {},
   "outputs": [],
   "source": [
    "X_BOW = vectorizer_BOW.transform(X)"
   ]
  },
  {
   "cell_type": "code",
   "execution_count": 92,
   "metadata": {},
   "outputs": [
    {
     "name": "stdout",
     "output_type": "stream",
     "text": [
      "[0 0 0 0 1 0 0 0 0 0]\n"
     ]
    }
   ],
   "source": [
    "y = log_regr.predict(X_BOW)\n",
    "print(y[:10])"
   ]
  },
  {
   "cell_type": "code",
   "execution_count": 93,
   "metadata": {},
   "outputs": [
    {
     "data": {
      "text/html": [
       "<div>\n",
       "<style scoped>\n",
       "    .dataframe tbody tr th:only-of-type {\n",
       "        vertical-align: middle;\n",
       "    }\n",
       "\n",
       "    .dataframe tbody tr th {\n",
       "        vertical-align: top;\n",
       "    }\n",
       "\n",
       "    .dataframe thead th {\n",
       "        text-align: right;\n",
       "    }\n",
       "</style>\n",
       "<table border=\"1\" class=\"dataframe\">\n",
       "  <thead>\n",
       "    <tr style=\"text-align: right;\">\n",
       "      <th></th>\n",
       "      <th>text</th>\n",
       "      <th>score</th>\n",
       "    </tr>\n",
       "  </thead>\n",
       "  <tbody>\n",
       "    <tr>\n",
       "      <th>0</th>\n",
       "      <td>j jim whitehead ejw cse ucsc edu writes j you ...</td>\n",
       "      <td>ham</td>\n",
       "    </tr>\n",
       "    <tr>\n",
       "      <th>1</th>\n",
       "      <td>original message from bitbitch magnesium net p...</td>\n",
       "      <td>ham</td>\n",
       "    </tr>\n",
       "    <tr>\n",
       "      <th>2</th>\n",
       "      <td>java for managers vince durasoft who just taug...</td>\n",
       "      <td>ham</td>\n",
       "    </tr>\n",
       "    <tr>\n",
       "      <th>3</th>\n",
       "      <td>there is a youtuber name saiman says</td>\n",
       "      <td>ham</td>\n",
       "    </tr>\n",
       "    <tr>\n",
       "      <th>4</th>\n",
       "      <td>underpriced issue with high return on equity t...</td>\n",
       "      <td>spam</td>\n",
       "    </tr>\n",
       "  </tbody>\n",
       "</table>\n",
       "</div>"
      ],
      "text/plain": [
       "                                                text score\n",
       "0  j jim whitehead ejw cse ucsc edu writes j you ...   ham\n",
       "1  original message from bitbitch magnesium net p...   ham\n",
       "2  java for managers vince durasoft who just taug...   ham\n",
       "3               there is a youtuber name saiman says   ham\n",
       "4  underpriced issue with high return on equity t...  spam"
      ]
     },
     "execution_count": 93,
     "metadata": {},
     "output_type": "execute_result"
    }
   ],
   "source": [
    "y = np.where(y == 1, 'spam', 'ham')\n",
    "df_test['score'] = y\n",
    "df_test.head()"
   ]
  },
  {
   "cell_type": "code",
   "execution_count": 94,
   "metadata": {},
   "outputs": [],
   "source": [
    "df_test.to_csv('result_spam.csv')"
   ]
  }
 ],
 "metadata": {
  "kernelspec": {
   "display_name": "Python 3",
   "language": "python",
   "name": "python3"
  },
  "language_info": {
   "codemirror_mode": {
    "name": "ipython",
    "version": 3
   },
   "file_extension": ".py",
   "mimetype": "text/x-python",
   "name": "python",
   "nbconvert_exporter": "python",
   "pygments_lexer": "ipython3",
   "version": "3.8.8"
  }
 },
 "nbformat": 4,
 "nbformat_minor": 2
}
